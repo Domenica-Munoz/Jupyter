{
 "cells": [
  {
   "cell_type": "code",
   "execution_count": 1,
   "metadata": {},
   "outputs": [
    {
     "name": "stdout",
     "output_type": "stream",
     "text": [
      "Requirement already satisfied: facebook-scraper in c:\\users\\domenicamunoz\\anaconda3\\lib\\site-packages (0.2.38)\n",
      "Requirement already satisfied: dateparser<2.0.0,>=1.0.0 in c:\\users\\domenicamunoz\\anaconda3\\lib\\site-packages (from facebook-scraper) (1.0.0)\n",
      "Requirement already satisfied: requests-html<0.11.0,>=0.10.0 in c:\\users\\domenicamunoz\\anaconda3\\lib\\site-packages (from facebook-scraper) (0.10.0)\n",
      "Requirement already satisfied: demjson<3.0.0,>=2.2.4 in c:\\users\\domenicamunoz\\anaconda3\\lib\\site-packages (from facebook-scraper) (2.2.4)\n",
      "Requirement already satisfied: tzlocal in c:\\users\\domenicamunoz\\anaconda3\\lib\\site-packages (from dateparser<2.0.0,>=1.0.0->facebook-scraper) (2.1)\n",
      "Requirement already satisfied: python-dateutil in c:\\users\\domenicamunoz\\anaconda3\\lib\\site-packages (from dateparser<2.0.0,>=1.0.0->facebook-scraper) (2.8.1)\n",
      "Requirement already satisfied: regex!=2019.02.19 in c:\\users\\domenicamunoz\\anaconda3\\lib\\site-packages (from dateparser<2.0.0,>=1.0.0->facebook-scraper) (2020.10.15)\n",
      "Requirement already satisfied: pytz in c:\\users\\domenicamunoz\\anaconda3\\lib\\site-packages (from dateparser<2.0.0,>=1.0.0->facebook-scraper) (2020.1)\n",
      "Requirement already satisfied: fake-useragent in c:\\users\\domenicamunoz\\anaconda3\\lib\\site-packages (from requests-html<0.11.0,>=0.10.0->facebook-scraper) (0.1.11)\n",
      "Requirement already satisfied: requests in c:\\users\\domenicamunoz\\anaconda3\\lib\\site-packages (from requests-html<0.11.0,>=0.10.0->facebook-scraper) (2.24.0)\n",
      "Requirement already satisfied: w3lib in c:\\users\\domenicamunoz\\anaconda3\\lib\\site-packages (from requests-html<0.11.0,>=0.10.0->facebook-scraper) (1.22.0)\n",
      "Requirement already satisfied: parse in c:\\users\\domenicamunoz\\anaconda3\\lib\\site-packages (from requests-html<0.11.0,>=0.10.0->facebook-scraper) (1.19.0)\n",
      "Requirement already satisfied: bs4 in c:\\users\\domenicamunoz\\anaconda3\\lib\\site-packages (from requests-html<0.11.0,>=0.10.0->facebook-scraper) (0.0.1)\n",
      "Requirement already satisfied: pyppeteer>=0.0.14 in c:\\users\\domenicamunoz\\anaconda3\\lib\\site-packages (from requests-html<0.11.0,>=0.10.0->facebook-scraper) (0.2.5)\n",
      "Requirement already satisfied: pyquery in c:\\users\\domenicamunoz\\anaconda3\\lib\\site-packages (from requests-html<0.11.0,>=0.10.0->facebook-scraper) (1.4.3)\n",
      "Requirement already satisfied: six>=1.5 in c:\\users\\domenicamunoz\\anaconda3\\lib\\site-packages (from python-dateutil->dateparser<2.0.0,>=1.0.0->facebook-scraper) (1.15.0)\n",
      "Requirement already satisfied: chardet<4,>=3.0.2 in c:\\users\\domenicamunoz\\anaconda3\\lib\\site-packages (from requests->requests-html<0.11.0,>=0.10.0->facebook-scraper) (3.0.4)\n",
      "Requirement already satisfied: certifi>=2017.4.17 in c:\\users\\domenicamunoz\\anaconda3\\lib\\site-packages (from requests->requests-html<0.11.0,>=0.10.0->facebook-scraper) (2020.6.20)\n",
      "Requirement already satisfied: urllib3!=1.25.0,!=1.25.1,<1.26,>=1.21.1 in c:\\users\\domenicamunoz\\anaconda3\\lib\\site-packages (from requests->requests-html<0.11.0,>=0.10.0->facebook-scraper) (1.25.11)\n",
      "Requirement already satisfied: idna<3,>=2.5 in c:\\users\\domenicamunoz\\anaconda3\\lib\\site-packages (from requests->requests-html<0.11.0,>=0.10.0->facebook-scraper) (2.10)\n",
      "Requirement already satisfied: beautifulsoup4 in c:\\users\\domenicamunoz\\anaconda3\\lib\\site-packages (from bs4->requests-html<0.11.0,>=0.10.0->facebook-scraper) (4.9.3)\n",
      "Requirement already satisfied: appdirs<2.0.0,>=1.4.3 in c:\\users\\domenicamunoz\\anaconda3\\lib\\site-packages (from pyppeteer>=0.0.14->requests-html<0.11.0,>=0.10.0->facebook-scraper) (1.4.4)\n",
      "Requirement already satisfied: websockets<9.0,>=8.1 in c:\\users\\domenicamunoz\\anaconda3\\lib\\site-packages (from pyppeteer>=0.0.14->requests-html<0.11.0,>=0.10.0->facebook-scraper) (8.1)\n",
      "Requirement already satisfied: tqdm<5.0.0,>=4.42.1 in c:\\users\\domenicamunoz\\anaconda3\\lib\\site-packages (from pyppeteer>=0.0.14->requests-html<0.11.0,>=0.10.0->facebook-scraper) (4.50.2)\n",
      "Requirement already satisfied: pyee<9.0.0,>=8.1.0 in c:\\users\\domenicamunoz\\anaconda3\\lib\\site-packages (from pyppeteer>=0.0.14->requests-html<0.11.0,>=0.10.0->facebook-scraper) (8.1.0)\n",
      "Requirement already satisfied: cssselect>0.7.9 in c:\\users\\domenicamunoz\\anaconda3\\lib\\site-packages (from pyquery->requests-html<0.11.0,>=0.10.0->facebook-scraper) (1.1.0)\n",
      "Requirement already satisfied: lxml>=2.1 in c:\\users\\domenicamunoz\\anaconda3\\lib\\site-packages (from pyquery->requests-html<0.11.0,>=0.10.0->facebook-scraper) (4.6.1)\n",
      "Requirement already satisfied: soupsieve>1.2; python_version >= \"3.0\" in c:\\users\\domenicamunoz\\anaconda3\\lib\\site-packages (from beautifulsoup4->bs4->requests-html<0.11.0,>=0.10.0->facebook-scraper) (2.0.1)\n",
      "Note: you may need to restart the kernel to use updated packages.\n"
     ]
    }
   ],
   "source": [
    "pip install facebook-scraper\n"
   ]
  },
  {
   "cell_type": "markdown",
   "metadata": {},
   "source": [
    "from facebook_scraper import get_posts\n",
    "for post in get_posts('alcaldiadepaute', pages=1):\n",
    "    print(post)\n",
    "    #print(post[\"likes\"])  \n",
    "    #print(post['comments_full'])\n",
    "    observation = env.reset()\n",
    "for t in range(1000):\n",
    "        post.render()\n",
    "        action = post.action_space.sample()\n",
    "           observation, reward, done, info = post.step(action)\n",
    "     \n",
    "print(reward,done)\n",
    "post.close()"
   ]
  },
  {
   "cell_type": "code",
   "execution_count": 1,
   "metadata": {},
   "outputs": [
    {
     "name": "stderr",
     "output_type": "stream",
     "text": [
      "C:\\Users\\DomenicaMunoz\\anaconda3\\lib\\site-packages\\IPython\\core\\interactiveshell.py:3418: UserWarning: A low page limit (<=2) might return no results, try increasing the limit\n",
      "  exec(code_obj, self.user_global_ns, self.user_ns)\n",
      "C:\\Users\\DomenicaMunoz\\anaconda3\\lib\\site-packages\\facebook_scraper\\facebook_scraper.py:235: UserWarning: Locale detected as es_LA - for best results, set to en_US\n",
      "  warnings.warn(f\"Locale detected as {locale} - for best results, set to en_US\")\n"
     ]
    },
    {
     "name": "stdout",
     "output_type": "stream",
     "text": [
      "{'post_id': '789095878475698', 'text': 'Nuestro compromiso y trabajo para el desarrollo de nuestro cantón Cuenca. El proyecto de regeneración urbana del Centro Parroquial y la rehabilitación del parque Central de la parroquia El Valle será una obra que ayude al progreso económico y turístico de la parroquia.\\n#CuencaUnida\\n\\nNuestro compromiso y trabajo para el desarrollo de nuestro cantón Cuenca. El proyecto de regeneración urbana del Centro Parroquial y la rehabilitación del parque Central de la parroquia El Valle será una obra que ayude al progreso económico y turístico de la parroquia.\\n\\n#CuencaUnida\\n\\n', 'post_text': 'Nuestro compromiso y trabajo para el desarrollo de nuestro cantón Cuenca. El proyecto de regeneración urbana del Centro Parroquial y la rehabilitación del parque Central de la parroquia El Valle será una obra que ayude al progreso económico y turístico de la parroquia.\\n#CuencaUnida\\n\\nNuestro compromiso y trabajo para el desarrollo de nuestro cantón Cuenca. El proyecto de regeneración urbana del Centro Parroquial y la rehabilitación del parque Central de la parroquia El Valle será una obra que ayude al progreso económico y turístico de la parroquia.\\n\\n#CuencaUnida\\n\\n', 'shared_text': '', 'time': datetime.datetime(2021, 5, 31, 12, 47, 58), 'image': None, 'image_lowquality': 'https://scontent.fcue1-1.fna.fbcdn.net/v/t1.6435-0/cp0/e15/q65/s320x320/193341396_789095795142373_8438068217236113712_n.jpg?_nc_cat=105&ccb=1-3&_nc_sid=110474&_nc_ohc=dXEgTeQD9wUAX-meo7L&_nc_ht=scontent.fcue1-1.fna&tp=9&oh=616b06fa62631e596b2dedfe97f7dbf9&oe=60DA76A6', 'images': [None, None, None], 'images_description': ['Puede ser una imagen de una o varias personas, personas de pie e interior', 'Puede ser una imagen de una o varias personas, personas de pie y personas sentadas', 'Puede ser una imagen de una o varias personas y personas de pie'], 'images_lowquality': ['https://scontent.fcue1-1.fna.fbcdn.net/v/t1.6435-0/cp0/e15/q65/s320x320/193341396_789095795142373_8438068217236113712_n.jpg?_nc_cat=105&ccb=1-3&_nc_sid=110474&_nc_ohc=dXEgTeQD9wUAX-meo7L&_nc_ht=scontent.fcue1-1.fna&tp=9&oh=616b06fa62631e596b2dedfe97f7dbf9&oe=60DA76A6', 'https://scontent.fcue1-1.fna.fbcdn.net/v/t1.6435-0/cp0/e15/q65/s240x240/191637929_789095825142370_6582183138748769100_n.jpg?_nc_cat=109&ccb=1-3&_nc_sid=110474&_nc_ohc=AfCom9BXy9EAX-yyast&_nc_ht=scontent.fcue1-1.fna&tp=9&oh=fca439409af03ae7fb05ba067e6ef687&oe=60DB002F', 'https://scontent.fcue1-1.fna.fbcdn.net/v/t1.6435-0/cp0/e15/q65/s240x240/192028904_789095845142368_8126303286562721308_n.jpg?_nc_cat=109&ccb=1-3&_nc_sid=110474&_nc_ohc=WgW57jR6ZaAAX89F_R1&_nc_ht=scontent.fcue1-1.fna&tp=9&oh=b9884cdedd0b9b6fb46d45ffbebfe8d4&oe=60D919F0'], 'images_lowquality_description': ['Puede ser una imagen de una o varias personas, personas de pie e interior', 'Puede ser una imagen de una o varias personas, personas de pie y personas sentadas', 'Puede ser una imagen de una o varias personas y personas de pie'], 'video': None, 'video_duration_seconds': None, 'video_height': None, 'video_id': None, 'video_quality': None, 'video_size_MB': None, 'video_thumbnail': None, 'video_watches': None, 'video_width': None, 'likes': 203, 'comments': 30, 'shares': 54, 'post_url': 'https://facebook.com/PedroPalaciosU/posts/789095878475698', 'link': None, 'user_id': '145977139454245', 'username': 'Pedro Palacios Ullauri', 'user_url': 'https://facebook.com/PedroPalaciosU/?__tn__=C-R', 'is_live': False, 'factcheck': None, 'shared_post_id': None, 'shared_time': None, 'shared_user_id': None, 'shared_username': None, 'shared_post_url': None, 'available': True, 'comments_full': None, 'reactors': None, 'w3_fb_url': None, 'reactions': None, 'reaction_count': None}\n",
      "{'post_id': '788033331915286', 'text': 'Recorremos las obras de los cuencanos en la parroquia Monay, donde generamos 240 empleos directos e indirectos. Nuestra ciudad se reactiva económicamente.\\n#CuencaUnida\\n\\nRecorremos las obras de los cuencanos en la parroquia Monay, donde generamos 240 empleos directos e indirectos. Nuestra ciudad se reactiva económicamente.\\n\\n#CuencaUnida\\n\\n', 'post_text': 'Recorremos las obras de los cuencanos en la parroquia Monay, donde generamos 240 empleos directos e indirectos. Nuestra ciudad se reactiva económicamente.\\n#CuencaUnida\\n\\nRecorremos las obras de los cuencanos en la parroquia Monay, donde generamos 240 empleos directos e indirectos. Nuestra ciudad se reactiva económicamente.\\n\\n#CuencaUnida\\n\\n', 'shared_text': '', 'time': datetime.datetime(2021, 5, 29, 11, 20, 14), 'image': None, 'image_lowquality': 'https://scontent.fcue1-1.fna.fbcdn.net/v/t1.6435-0/cp0/e15/q65/s320x320/191580929_788033208581965_7481998650775139034_n.jpg?_nc_cat=105&ccb=1-3&_nc_sid=110474&_nc_ohc=MXcz8fbT79sAX-29KAf&_nc_ht=scontent.fcue1-1.fna&tp=9&oh=6ce271b8290c5678036c27c77db27fc9&oe=60DB32ED', 'images': [None, None, None, None], 'images_description': ['Puede ser una imagen de una o varias personas, personas de pie y al aire libre', 'Puede ser una imagen de al aire libre y árbol', 'Puede ser una imagen de una o varias personas, personas de pie y al aire libre', 'Puede ser una imagen de una o varias personas, personas de pie y al aire libre'], 'images_lowquality': ['https://scontent.fcue1-1.fna.fbcdn.net/v/t1.6435-0/cp0/e15/q65/s320x320/191580929_788033208581965_7481998650775139034_n.jpg?_nc_cat=105&ccb=1-3&_nc_sid=110474&_nc_ohc=MXcz8fbT79sAX-29KAf&_nc_ht=scontent.fcue1-1.fna&tp=9&oh=6ce271b8290c5678036c27c77db27fc9&oe=60DB32ED', 'https://scontent.fcue1-1.fna.fbcdn.net/v/t1.6435-0/cp0/e15/q65/s160x160/191169347_788033238581962_4339954490698058132_n.jpg?_nc_cat=107&ccb=1-3&_nc_sid=110474&_nc_ohc=5KXn3UpeN5MAX_noQzs&_nc_ht=scontent.fcue1-1.fna&tp=9&oh=1e854855bd9a2b5cd97663d17117dc6a&oe=60DC7F86', 'https://scontent.fcue1-1.fna.fbcdn.net/v/t1.6435-0/cp0/e15/q65/s160x160/191483973_788033265248626_4454659602711747292_n.jpg?_nc_cat=108&ccb=1-3&_nc_sid=110474&_nc_ohc=lawFuOtjwXsAX95MNyS&_nc_ht=scontent.fcue1-1.fna&tp=9&oh=9303a6e573d6ac763b775b237a3290d0&oe=60D97CBC', 'https://scontent.fcue1-1.fna.fbcdn.net/v/t1.6435-0/cp0/e15/q65/s160x160/191019271_788033298581956_138581897121700543_n.jpg?_nc_cat=110&ccb=1-3&_nc_sid=110474&_nc_ohc=VkE7pGAoDWcAX8wBKEw&_nc_ht=scontent.fcue1-1.fna&tp=9&oh=8dbf73889d29b4426082b29891e25fdb&oe=60D994DA'], 'images_lowquality_description': ['Puede ser una imagen de una o varias personas, personas de pie y al aire libre', 'Puede ser una imagen de al aire libre y árbol', 'Puede ser una imagen de una o varias personas, personas de pie y al aire libre', 'Puede ser una imagen de una o varias personas, personas de pie y al aire libre'], 'video': None, 'video_duration_seconds': None, 'video_height': None, 'video_id': None, 'video_quality': None, 'video_size_MB': None, 'video_thumbnail': None, 'video_watches': None, 'video_width': None, 'likes': 347, 'comments': 46, 'shares': 85, 'post_url': 'https://facebook.com/PedroPalaciosU/posts/788033331915286', 'link': None, 'user_id': '145977139454245', 'username': 'Pedro Palacios Ullauri', 'user_url': 'https://facebook.com/PedroPalaciosU/?__tn__=C-R', 'is_live': False, 'factcheck': None, 'shared_post_id': None, 'shared_time': None, 'shared_user_id': None, 'shared_username': None, 'shared_post_url': None, 'available': True, 'comments_full': None, 'reactors': None, 'w3_fb_url': None, 'reactions': None, 'reaction_count': None}\n"
     ]
    }
   ],
   "source": [
    "from facebook_scraper import get_posts\n",
    "for post in get_posts('PedroPalaciosU', pages=1):\n",
    "    print(post)\n",
    "    #print(post[\"likes\"])  \n",
    "    #print(post['comments_full'])\n",
    "    #print(post['text'])\n",
    "    #print(post['images'])"
   ]
  },
  {
   "cell_type": "code",
   "execution_count": null,
   "metadata": {},
   "outputs": [],
   "source": [
    "pip install neo4j"
   ]
  },
  {
   "cell_type": "code",
   "execution_count": 30,
   "metadata": {},
   "outputs": [],
   "source": [
    "from neo4j import GraphDatabase \n",
    "class Neo4jService(object):\n",
    "\n",
    "    def __init__ (self, uri, user, password):\n",
    "        self._driver = GraphDatabase.driver(uri, auth=(user, password))\n",
    "\n",
    "    def close(self):\n",
    "        self._driver.close()\n",
    "    def crear_alcaldes(self, tx, nombre):\n",
    "        tx.run(\"CREATE (:alcaldes {nombre: $nombre})\", nombre=nombre)\n",
    "    def crear_facebook(self, tx, fecha):\n",
    "        tx.run(\"CREATE (:fecha {fecha: $fecha})\", fecha=fecha)\n",
    "    def crear_descripcion(self, tx, descripcion):\n",
    "        tx.run(\"CREATE (:descripcion {descripcion: $descripcion})\", descripcion=descripcion) \n",
    "        \n",
    "    def crear_relacion_facebook_descripcion(self, tx, nombre_fecha,nombre_descripcion):\n",
    "        tx.run(\"MATCH (a:fecha {nombre: $nombre_facebook}) \"\n",
    "               \"MATCH (b:descripcion {nombre: $nombre_descripcion}) \"\n",
    "               \"MERGE (a)-[:facebook_descripcion]->(b)\",\n",
    "               nombre_facebook=nombre_facebook, nombre_descripcion=nombre_descripcion)"
   ]
  },
  {
   "cell_type": "code",
   "execution_count": 32,
   "metadata": {},
   "outputs": [],
   "source": [
    "neo4j = Neo4jService('bolt://localhost:7687', 'neo4j', 'cuenca')\n",
    "with neo4j._driver.session() as session:\n",
    "    \n",
    "    session.write_transaction(neo4j.crear_alcaldes , \"alcaldes\")\n",
    "    session.write_transaction(neo4j.crear_facebook , \"facebook\")\n",
    "    session.write_transaction(neo4j.crear_descripcion , \"descripcion\")\n",
    "    session.write_transaction(neo4j.crear_relacion_facebook_descripcion , \"facebook\",\"descripcion\")"
   ]
  },
  {
   "cell_type": "code",
   "execution_count": 20,
   "metadata": {},
   "outputs": [
    {
     "ename": "SyntaxError",
     "evalue": "invalid syntax (<ipython-input-20-4509598f9417>, line 6)",
     "output_type": "error",
     "traceback": [
      "\u001b[1;36m  File \u001b[1;32m\"<ipython-input-20-4509598f9417>\"\u001b[1;36m, line \u001b[1;32m6\u001b[0m\n\u001b[1;33m    def crear_relacion_facebook_alcalde(self, tx, nombre_alcalde,nombre_fecha):\u001b[0m\n\u001b[1;37m    ^\u001b[0m\n\u001b[1;31mSyntaxError\u001b[0m\u001b[1;31m:\u001b[0m invalid syntax\n"
     ]
    }
   ],
   "source": [
    "    def crear_relacion_TitFech(self, tx, nombre_titulo,nombre_fecha):\n",
    "        tx.run(\"MATCH (a:Alcalde {nombre: $nombre_titulo}) \"\n",
    "               \"MATCH (b:Fuente {nombre: $nombre_fecha}) \"\n",
    "               \"MERGE (a)-[:Titulo_Fecha]->(b)\",\n",
    "               nombre_titulo=nombre_titulo, nombre_fecha=nombre_fecha\n",
    "    def crear_relacion_facebook_alcalde(self, tx, nombre_alcalde,nombre_fecha):\n",
    "        tx.run(\"MATCH (a:alcalde{nombre: $nombre_alcalde}) \"\n",
    "               \"MATCH (b:fecha {nombre: $nombre_fecha}) \"\n",
    "               \"MERGE (a)-[:descripcion_fecha]->(b)\",\n",
    "               nombre_alcalde=nombre_alcalde, nombre_fecha=nombre_fecha)\n",
    "    def crear_relacion_facebook_descripcion(self, tx, nombre_descripcion,nombre_fecha):\n",
    "        tx.run(\"MATCH (a:descripcion{nombre: $nombre_descripcion}) \"\n",
    "               \"MATCH (b:fecha {nombre: $nombre_fecha}) \"\n",
    "               \"MERGE (a)-[:descripcion_fecha]->(b)\",\n",
    "               nombre_descripcion=nombre_descripcion, nombre_fecha=nombre_fecha)               \n"
   ]
  },
  {
   "cell_type": "code",
   "execution_count": null,
   "metadata": {},
   "outputs": [],
   "source": []
  },
  {
   "cell_type": "code",
   "execution_count": null,
   "metadata": {},
   "outputs": [],
   "source": []
  }
 ],
 "metadata": {
  "kernelspec": {
   "display_name": "Python 3",
   "language": "python",
   "name": "python3"
  },
  "language_info": {
   "codemirror_mode": {
    "name": "ipython",
    "version": 3
   },
   "file_extension": ".py",
   "mimetype": "text/x-python",
   "name": "python",
   "nbconvert_exporter": "python",
   "pygments_lexer": "ipython3",
   "version": "3.8.5"
  }
 },
 "nbformat": 4,
 "nbformat_minor": 4
}
