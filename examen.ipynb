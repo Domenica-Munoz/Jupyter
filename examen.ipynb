{
 "cells": [
  {
   "cell_type": "code",
   "execution_count": 1,
   "metadata": {},
   "outputs": [
    {
     "name": "stdout",
     "output_type": "stream",
     "text": [
      "Requirement already satisfied: facebook-scraper in c:\\users\\domenicamunoz\\anaconda3\\lib\\site-packages (0.2.38)Note: you may need to restart the kernel to use updated packages.\n",
      "Requirement already satisfied: dateparser<2.0.0,>=1.0.0 in c:\\users\\domenicamunoz\\anaconda3\\lib\\site-packages (from facebook-scraper) (1.0.0)\n",
      "Requirement already satisfied: requests-html<0.11.0,>=0.10.0 in c:\\users\\domenicamunoz\\anaconda3\\lib\\site-packages (from facebook-scraper) (0.10.0)\n",
      "Requirement already satisfied: demjson<3.0.0,>=2.2.4 in c:\\users\\domenicamunoz\\anaconda3\\lib\\site-packages (from facebook-scraper) (2.2.4)\n",
      "Requirement already satisfied: pytz in c:\\users\\domenicamunoz\\anaconda3\\lib\\site-packages (from dateparser<2.0.0,>=1.0.0->facebook-scraper) (2020.1)\n",
      "Requirement already satisfied: tzlocal in c:\\users\\domenicamunoz\\anaconda3\\lib\\site-packages (from dateparser<2.0.0,>=1.0.0->facebook-scraper) (2.1)\n",
      "Requirement already satisfied: python-dateutil in c:\\users\\domenicamunoz\\anaconda3\\lib\\site-packages (from dateparser<2.0.0,>=1.0.0->facebook-scraper) (2.8.1)\n",
      "Requirement already satisfied: regex!=2019.02.19 in c:\\users\\domenicamunoz\\anaconda3\\lib\\site-packages (from dateparser<2.0.0,>=1.0.0->facebook-scraper) (2020.10.15)\n",
      "Requirement already satisfied: pyquery in c:\\users\\domenicamunoz\\anaconda3\\lib\\site-packages (from requests-html<0.11.0,>=0.10.0->facebook-scraper) (1.4.3)\n",
      "\n",
      "Requirement already satisfied: pyppeteer>=0.0.14 in c:\\users\\domenicamunoz\\anaconda3\\lib\\site-packages (from requests-html<0.11.0,>=0.10.0->facebook-scraper) (0.2.5)\n",
      "Requirement already satisfied: bs4 in c:\\users\\domenicamunoz\\anaconda3\\lib\\site-packages (from requests-html<0.11.0,>=0.10.0->facebook-scraper) (0.0.1)\n",
      "Requirement already satisfied: fake-useragent in c:\\users\\domenicamunoz\\anaconda3\\lib\\site-packages (from requests-html<0.11.0,>=0.10.0->facebook-scraper) (0.1.11)\n",
      "Requirement already satisfied: requests in c:\\users\\domenicamunoz\\anaconda3\\lib\\site-packages (from requests-html<0.11.0,>=0.10.0->facebook-scraper) (2.24.0)\n",
      "Requirement already satisfied: w3lib in c:\\users\\domenicamunoz\\anaconda3\\lib\\site-packages (from requests-html<0.11.0,>=0.10.0->facebook-scraper) (1.22.0)\n",
      "Requirement already satisfied: parse in c:\\users\\domenicamunoz\\anaconda3\\lib\\site-packages (from requests-html<0.11.0,>=0.10.0->facebook-scraper) (1.19.0)\n",
      "Requirement already satisfied: six>=1.5 in c:\\users\\domenicamunoz\\anaconda3\\lib\\site-packages (from python-dateutil->dateparser<2.0.0,>=1.0.0->facebook-scraper) (1.15.0)\n",
      "Requirement already satisfied: lxml>=2.1 in c:\\users\\domenicamunoz\\anaconda3\\lib\\site-packages (from pyquery->requests-html<0.11.0,>=0.10.0->facebook-scraper) (4.6.1)\n",
      "Requirement already satisfied: cssselect>0.7.9 in c:\\users\\domenicamunoz\\anaconda3\\lib\\site-packages (from pyquery->requests-html<0.11.0,>=0.10.0->facebook-scraper) (1.1.0)\n",
      "Requirement already satisfied: tqdm<5.0.0,>=4.42.1 in c:\\users\\domenicamunoz\\anaconda3\\lib\\site-packages (from pyppeteer>=0.0.14->requests-html<0.11.0,>=0.10.0->facebook-scraper) (4.50.2)\n",
      "Requirement already satisfied: appdirs<2.0.0,>=1.4.3 in c:\\users\\domenicamunoz\\anaconda3\\lib\\site-packages (from pyppeteer>=0.0.14->requests-html<0.11.0,>=0.10.0->facebook-scraper) (1.4.4)\n",
      "Requirement already satisfied: websockets<9.0,>=8.1 in c:\\users\\domenicamunoz\\anaconda3\\lib\\site-packages (from pyppeteer>=0.0.14->requests-html<0.11.0,>=0.10.0->facebook-scraper) (8.1)\n",
      "Requirement already satisfied: urllib3<2.0.0,>=1.25.8 in c:\\users\\domenicamunoz\\anaconda3\\lib\\site-packages (from pyppeteer>=0.0.14->requests-html<0.11.0,>=0.10.0->facebook-scraper) (1.25.11)\n",
      "Requirement already satisfied: pyee<9.0.0,>=8.1.0 in c:\\users\\domenicamunoz\\anaconda3\\lib\\site-packages (from pyppeteer>=0.0.14->requests-html<0.11.0,>=0.10.0->facebook-scraper) (8.1.0)\n",
      "Requirement already satisfied: beautifulsoup4 in c:\\users\\domenicamunoz\\anaconda3\\lib\\site-packages (from bs4->requests-html<0.11.0,>=0.10.0->facebook-scraper) (4.9.3)\n",
      "Requirement already satisfied: chardet<4,>=3.0.2 in c:\\users\\domenicamunoz\\anaconda3\\lib\\site-packages (from requests->requests-html<0.11.0,>=0.10.0->facebook-scraper) (3.0.4)\n",
      "Requirement already satisfied: certifi>=2017.4.17 in c:\\users\\domenicamunoz\\anaconda3\\lib\\site-packages (from requests->requests-html<0.11.0,>=0.10.0->facebook-scraper) (2020.6.20)\n",
      "Requirement already satisfied: idna<3,>=2.5 in c:\\users\\domenicamunoz\\anaconda3\\lib\\site-packages (from requests->requests-html<0.11.0,>=0.10.0->facebook-scraper) (2.10)\n",
      "Requirement already satisfied: soupsieve>1.2; python_version >= \"3.0\" in c:\\users\\domenicamunoz\\anaconda3\\lib\\site-packages (from beautifulsoup4->bs4->requests-html<0.11.0,>=0.10.0->facebook-scraper) (2.0.1)\n"
     ]
    }
   ],
   "source": [
    "pip install facebook-scraper"
   ]
  },
  {
   "cell_type": "code",
   "execution_count": 2,
   "metadata": {},
   "outputs": [
    {
     "name": "stderr",
     "output_type": "stream",
     "text": [
      "C:\\Users\\DomenicaMunoz\\anaconda3\\lib\\site-packages\\IPython\\core\\interactiveshell.py:3418: UserWarning: A low page limit (<=2) might return no results, try increasing the limit\n",
      "  exec(code_obj, self.user_global_ns, self.user_ns)\n",
      "C:\\Users\\DomenicaMunoz\\anaconda3\\lib\\site-packages\\facebook_scraper\\facebook_scraper.py:235: UserWarning: Locale detected as es_LA - for best results, set to en_US\n",
      "  warnings.warn(f\"Locale detected as {locale} - for best results, set to en_US\")\n"
     ]
    },
    {
     "name": "stdout",
     "output_type": "stream",
     "text": [
      "{'post_id': '790687974983155', 'text': '¡La economía en Cuenca se reactiva!\\nSuscribimos el contrato de 48 millones de dólares con el Banco de Desarrollo para América Latina para el financiamiento e implementación de obras que permitirán crear plazas… Más de trabajos directas e indirectas y el desarrollo social de la ciudad.\\nLos recursos económicos se destinarán para programas y proyectos que beneficien a las familias cuencanas con obras, fiscalización, consultorías, estudios, manejo ambiental y social, auditorías, bienes y fortalecimiento institucional.\\n#CuencaUnida\\n\\n¡La economía en Cuenca se reactiva!\\n\\nSuscribimos el contrato de 48 millones de dólares con el Banco de Desarrollo para América Latina para el financiamiento e implementación de obras que permitirán crear plazasMás de trabajos directas e indirectas y el desarrollo social de la ciudad.\\n\\nLos recursos económicos se destinarán para programas y proyectos que beneficien a las familias cuencanas con obras, fiscalización, consultorías, estudios, manejo ambiental y social, auditorías, bienes y fortalecimiento institucional.\\n\\n#CuencaUnida\\n\\n', 'post_text': '¡La economía en Cuenca se reactiva!\\nSuscribimos el contrato de 48 millones de dólares con el Banco de Desarrollo para América Latina para el financiamiento e implementación de obras que permitirán crear plazas… Más de trabajos directas e indirectas y el desarrollo social de la ciudad.\\nLos recursos económicos se destinarán para programas y proyectos que beneficien a las familias cuencanas con obras, fiscalización, consultorías, estudios, manejo ambiental y social, auditorías, bienes y fortalecimiento institucional.\\n#CuencaUnida\\n\\n¡La economía en Cuenca se reactiva!\\n\\nSuscribimos el contrato de 48 millones de dólares con el Banco de Desarrollo para América Latina para el financiamiento e implementación de obras que permitirán crear plazasMás de trabajos directas e indirectas y el desarrollo social de la ciudad.\\n\\nLos recursos económicos se destinarán para programas y proyectos que beneficien a las familias cuencanas con obras, fiscalización, consultorías, estudios, manejo ambiental y social, auditorías, bienes y fortalecimiento institucional.\\n\\n#CuencaUnida\\n\\n', 'shared_text': '', 'time': datetime.datetime(2021, 6, 3, 12, 46, 56), 'image': None, 'image_lowquality': 'https://scontent.fcue2-1.fna.fbcdn.net/v/t1.6435-0/cp0/e15/q65/s320x320/193169444_790686698316616_340959473471837584_n.jpg?_nc_cat=110&ccb=1-3&_nc_sid=8024bb&_nc_ohc=qNUAaO4b1tUAX_hsY7Z&_nc_ht=scontent.fcue2-1.fna&tp=9&oh=f023ed819bc1bb16da3543281a52e5a9&oe=60DD99B8', 'images': [None, None, None], 'images_description': ['Puede ser una imagen de una o varias personas, personas de pie y carretera', 'Puede ser una imagen de 1 persona, de pie, al aire libre y texto que dice \"cuenca M 1\"', 'Puede ser una imagen de 1 persona, de pie y al aire libre'], 'images_lowquality': ['https://scontent.fcue2-1.fna.fbcdn.net/v/t1.6435-0/cp0/e15/q65/s320x320/193169444_790686698316616_340959473471837584_n.jpg?_nc_cat=110&ccb=1-3&_nc_sid=8024bb&_nc_ohc=qNUAaO4b1tUAX_hsY7Z&_nc_ht=scontent.fcue2-1.fna&tp=9&oh=f023ed819bc1bb16da3543281a52e5a9&oe=60DD99B8', 'https://scontent.fcue2-1.fna.fbcdn.net/v/t1.6435-0/cp0/e15/q65/p160x160/194099965_790686734983279_3442729063149462245_n.jpg?_nc_cat=102&ccb=1-3&_nc_sid=8024bb&_nc_ohc=Br6dcvUz8TsAX8RzaMh&_nc_ht=scontent.fcue2-1.fna&tp=3&oh=bb583eefd615724fce585cf34241db1d&oe=60DED7B2', 'https://scontent.fcue2-1.fna.fbcdn.net/v/t1.6435-0/cp0/e15/q65/p160x160/192915101_790686774983275_5021615116050136510_n.jpg?_nc_cat=104&ccb=1-3&_nc_sid=8024bb&_nc_ohc=RTvRSKOMgu8AX8TMHKF&_nc_ht=scontent.fcue2-1.fna&tp=3&oh=f6e9581afca90074329dfc5ed6ea6378&oe=60DDE751'], 'images_lowquality_description': ['Puede ser una imagen de una o varias personas, personas de pie y carretera', 'Puede ser una imagen de 1 persona, de pie, al aire libre y texto que dice \"cuenca M 1\"', 'Puede ser una imagen de 1 persona, de pie y al aire libre'], 'video': None, 'video_duration_seconds': None, 'video_height': None, 'video_id': None, 'video_quality': None, 'video_size_MB': None, 'video_thumbnail': None, 'video_watches': None, 'video_width': None, 'likes': 242, 'comments': 32, 'shares': 60, 'post_url': 'https://facebook.com/PedroPalaciosU/posts/790687974983155', 'link': None, 'user_id': '145977139454245', 'username': 'Pedro Palacios Ullauri', 'user_url': 'https://facebook.com/PedroPalaciosU/?__tn__=C-R', 'is_live': False, 'factcheck': None, 'shared_post_id': None, 'shared_time': None, 'shared_user_id': None, 'shared_username': None, 'shared_post_url': None, 'available': True, 'comments_full': None, 'reactors': None, 'w3_fb_url': None, 'reactions': None, 'reaction_count': None}\n",
      "{'post_id': '790097951708824', 'text': 'Cuidamos la salud de los compañeros de primera línea de ETAPA EP, hoy reciben su primera dosis de la vacunación contra #COVID19.\\nEs un reconocimiento a su trabajo que no ha tenido descanso ni un solo día, durante toda la pandemia.\\n#CuencaUnida\\n\\nCuidamos la salud de los compañeros de primera línea de ETAPA EP, hoy reciben su primera dosis de la vacunación contra #COVID19.\\n\\nEs un reconocimiento a su trabajo que no ha tenido descanso ni un solo día, durante toda la pandemia.\\n\\n#CuencaUnida\\n\\n', 'post_text': 'Cuidamos la salud de los compañeros de primera línea de ETAPA EP, hoy reciben su primera dosis de la vacunación contra #COVID19.\\nEs un reconocimiento a su trabajo que no ha tenido descanso ni un solo día, durante toda la pandemia.\\n#CuencaUnida\\n\\nCuidamos la salud de los compañeros de primera línea de ETAPA EP, hoy reciben su primera dosis de la vacunación contra #COVID19.\\n\\nEs un reconocimiento a su trabajo que no ha tenido descanso ni un solo día, durante toda la pandemia.\\n\\n#CuencaUnida\\n\\n', 'shared_text': '', 'time': datetime.datetime(2021, 6, 2, 10, 5, 14), 'image': None, 'image_lowquality': 'https://scontent.fcue2-1.fna.fbcdn.net/v/t1.6435-0/cp0/e15/q65/s320x320/192885877_790097808375505_5288053061117316932_n.jpg?_nc_cat=103&ccb=1-3&_nc_sid=110474&_nc_ohc=PcD3SFa-bh8AX8FV3nh&_nc_ht=scontent.fcue2-1.fna&tp=9&oh=9281eac7c67674215f6ded6784b7d0e0&oe=60DDC932', 'images': [None, None, None, None], 'images_description': ['Puede ser una imagen de una o varias personas', 'Puede ser una imagen de 1 persona, de pie, al aire libre y texto que dice \"SIMULACION CLI PER AUTO\"', 'Puede ser una imagen de 1 persona y de pie', 'Puede ser una imagen de 1 persona, sentado, de pie y al aire libre'], 'images_lowquality': ['https://scontent.fcue2-1.fna.fbcdn.net/v/t1.6435-0/cp0/e15/q65/s320x320/192885877_790097808375505_5288053061117316932_n.jpg?_nc_cat=103&ccb=1-3&_nc_sid=110474&_nc_ohc=PcD3SFa-bh8AX8FV3nh&_nc_ht=scontent.fcue2-1.fna&tp=9&oh=9281eac7c67674215f6ded6784b7d0e0&oe=60DDC932', 'https://scontent.fcue2-1.fna.fbcdn.net/v/t1.6435-0/cp0/e15/q65/s130x130/193203194_790097845042168_8895076862467315465_n.jpg?_nc_cat=111&ccb=1-3&_nc_sid=110474&_nc_ohc=v7DyVW7af_IAX8hJZOu&_nc_ht=scontent.fcue2-1.fna&tp=9&oh=4ef826bd53b6bc8fd41a957d958eac71&oe=60DCF028', 'https://scontent.fcue2-1.fna.fbcdn.net/v/t1.6435-0/cp0/e15/q65/s160x160/192983111_790097881708831_6149354867852316932_n.jpg?_nc_cat=111&ccb=1-3&_nc_sid=110474&_nc_ohc=nm0uFVm5MnUAX9bBait&_nc_ht=scontent.fcue2-1.fna&tp=9&oh=b200fe10122316e08b3c0a2cbb568dd7&oe=60E0BEDF', 'https://scontent.fcue2-1.fna.fbcdn.net/v/t1.6435-0/cp0/e15/q65/s130x130/192988895_790097921708827_3966576121962123828_n.jpg?_nc_cat=102&ccb=1-3&_nc_sid=110474&_nc_ohc=XnLF70P5wEcAX-E4HZ2&_nc_oc=AQnm3chK76A0RkEC7fiPZmBRqh9_LDkLdI9sTa6KN-_8VWDeCVqkJK7J8qWgMBtw7cE&_nc_ht=scontent.fcue2-1.fna&tp=9&oh=81e08ecf49b6d1d5b783d0f31b3dee3b&oe=60DE557D'], 'images_lowquality_description': ['Puede ser una imagen de una o varias personas', 'Puede ser una imagen de 1 persona, de pie, al aire libre y texto que dice \"SIMULACION CLI PER AUTO\"', 'Puede ser una imagen de 1 persona y de pie', 'Puede ser una imagen de 1 persona, sentado, de pie y al aire libre'], 'video': None, 'video_duration_seconds': None, 'video_height': None, 'video_id': None, 'video_quality': None, 'video_size_MB': None, 'video_thumbnail': None, 'video_watches': None, 'video_width': None, 'likes': 303, 'comments': 26, 'shares': 51, 'post_url': 'https://facebook.com/PedroPalaciosU/posts/790097951708824', 'link': None, 'user_id': '145977139454245', 'username': 'Pedro Palacios Ullauri', 'user_url': 'https://facebook.com/PedroPalaciosU/?__tn__=C-R', 'is_live': False, 'factcheck': None, 'shared_post_id': None, 'shared_time': None, 'shared_user_id': None, 'shared_username': None, 'shared_post_url': None, 'available': True, 'comments_full': None, 'reactors': None, 'w3_fb_url': None, 'reactions': None, 'reaction_count': None}\n"
     ]
    }
   ],
   "source": [
    "from facebook_scraper import get_posts\n",
    "for post in get_posts('PedroPalaciosU', pages=1):\n",
    "    print(post)\n",
    "    #print(post[\"likes\"])  \n",
    "    #print(post['comments_full'])\n",
    "    #print(post['text'])\n",
    "    #print(post['images'])"
   ]
  },
  {
   "cell_type": "code",
   "execution_count": 3,
   "metadata": {},
   "outputs": [
    {
     "name": "stdout",
     "output_type": "stream",
     "text": [
      "Requirement already satisfied: neo4j in c:\\users\\domenicamunoz\\anaconda3\\lib\\site-packages (4.3.0)\n",
      "Requirement already satisfied: pytz in c:\\users\\domenicamunoz\\anaconda3\\lib\\site-packages (from neo4j) (2020.1)\n",
      "Note: you may need to restart the kernel to use updated packages.\n"
     ]
    }
   ],
   "source": [
    "pip install neo4j"
   ]
  },
  {
   "cell_type": "code",
   "execution_count": 4,
   "metadata": {},
   "outputs": [],
   "source": [
    "from neo4j import GraphDatabase \n",
    "class Neo4jService(object):\n",
    "\n",
    "    def __init__ (self, uri, user, password):\n",
    "        self._driver = GraphDatabase.driver(uri, auth=(user, password))\n",
    "\n",
    "    def close(self):\n",
    "        self._driver.close()\n",
    "    def crear_alcaldes(self, tx, nombre):\n",
    "        tx.run(\"CREATE (:alcaldes {nombre: $nombre})\", nombre=nombre)\n",
    "    def crear_noticia(self, tx, nombre):\n",
    "        tx.run(\"CREATE (:noticia {nombre: $nombre})\", nombre=nombre)\n",
    "    def crear_links(self, tx, nombre):\n",
    "        tx.run(\"CREATE (:links {nombre: $nombre})\", nombre=nombre)\n",
    "        \n",
    "    def crear_contenido(self, tx, nombre):\n",
    "        tx.run(\"CREATE (:contenido {nombre: $nombre})\", nombre=nombre)\n",
    "        \n",
    "    def crear_titulo(self, tx, nombre):\n",
    "        tx.run(\"CREATE (:titulo {nombre: $nombre})\", nombre=nombre)\n",
    "\n",
    "    def crear_fecha(self, tx, nombre):\n",
    "        tx.run(\"CREATE (:fecha {nombre: $nombre})\", nombre=nombre)\n",
    "    def crear_likes(self, tx, nombre):\n",
    "        tx.run(\"CREATE (:likes {nombre: $nombre})\", nombre=nombre)\n",
    "    \n",
    "    def crear_relacion_AN(self, tx, nombre_alcalde,nombre_noticia):\n",
    "        tx.run(\"MATCH (a:alcaldes {nombre: $nombre_alcalde}) \"\n",
    "               \"MATCH (b:noticia {nombre: $nombre_noticia}) \"\n",
    "               \"MERGE (a)-[:alcalde_noticia]->(b)\",\n",
    "               nombre_alcalde=nombre_alcalde, nombre_noticia=nombre_noticia)\n",
    "    def crear_relacion_AL(self, tx, nombre_alcalde,nombre_links):\n",
    "        tx.run(\"MATCH (a:alcaldes {nombre: $nombre_alcalde}) \"\n",
    "               \"MATCH (b:links {nombre: $nombre_links}) \"\n",
    "               \"MERGE (a)-[:alcalde_links]->(b)\",\n",
    "               nombre_alcalde=nombre_alcalde, nombre_links=nombre_links)\n",
    "    def crear_relacion_AT(self, tx, nombre_alcalde,nombre_titulo):\n",
    "        tx.run(\"MATCH (a:alcaldes {nombre: $nombre_alcalde}) \"\n",
    "               \"MATCH (b:titulo {nombre: $nombre_titulo}) \"\n",
    "               \"MERGE (a)-[:alcalde_titulo]->(b)\",\n",
    "               nombre_alcalde=nombre_alcalde, nombre_titulo=nombre_titulo)\n",
    "    def crear_relacion_AF(self, tx, nombre_alcalde,nombre_fecha):\n",
    "        tx.run(\"MATCH (a:alcaldes {nombre: $nombre_alcalde}) \"\n",
    "               \"MATCH (b:fecha {nombre: $nombre_fecha}) \"\n",
    "               \"MERGE (a)-[:alcalde_fecha]->(b)\",\n",
    "               nombre_alcalde=nombre_alcalde, nombre_fecha=nombre_fecha)\n",
    "    def crear_relacion_ALI(self, tx, nombre_alcalde,nombre_likes):\n",
    "        tx.run(\"MATCH (a:alcaldes {nombre: $nombre_alcalde}) \"\n",
    "               \"MATCH (b:likes {nombre: $nombre_likes}) \"\n",
    "               \"MERGE (a)-[:alcalde_likes]->(b)\",\n",
    "               nombre_alcalde=nombre_alcalde, nombre_likes=nombre_likes)\n",
    "    "
   ]
  },
  {
   "cell_type": "code",
   "execution_count": null,
   "metadata": {},
   "outputs": [],
   "source": [
    "neo4j = Neo4jService('bolt://localhost:7687', 'neo4j', 'cuenca')\n",
    "with neo4j._driver.session() as session:\n",
    "    from facebook_scraper import get_posts\n",
    "    session.write_transaction(neo4j.crear_alcaldes , \"Pedro Palacios Ullauri\")\n",
    "for post in get_posts('PedroPalaciosU', pages=300):\n",
    "    #print(post)\n",
    "    #print(post[\"likes\"])  \n",
    "    #print(post['comments_full'])\n",
    "    #print(post['text'])\n",
    "    #print(post['images'])\n",
    "    session.write_transaction(neo4j.crear_noticia , post['post_text'])\n",
    "    session.write_transaction(neo4j.crear_links , post['user_url'])\n",
    "    session.write_transaction(neo4j.crear_contenido , post['text'])\n",
    "    session.write_transaction(neo4j.crear_likes , post['likes'])\n",
    "    session.write_transaction(neo4j.crear_titulo , post['images_description'])\n",
    "    session.write_transaction(neo4j.crear_fecha , post['time'])    \n",
    "    session.write_transaction(neo4j.crear_relacion_AN , \"Pedro Palacios Ullauri\",post['post_text'])\n",
    "    session.write_transaction(neo4j.crear_relacion_AL , \"Pedro Palacios Ullauri\",post['user_url'])\n",
    "    session.write_transaction(neo4j.crear_relacion_AT , \"Pedro Palacios Ullauri\",post['images_description'])\n",
    "    session.write_transaction(neo4j.crear_relacion_AF , \"Pedro Palacios Ullauri\",post['time'])\n",
    "    session.write_transaction(neo4j.crear_relacion_ALI , \"Pedro Palacios Ullauri\",post['likes'])"
   ]
  },
  {
   "cell_type": "code",
   "execution_count": null,
   "metadata": {},
   "outputs": [],
   "source": []
  }
 ],
 "metadata": {
  "kernelspec": {
   "display_name": "Python 3",
   "language": "python",
   "name": "python3"
  },
  "language_info": {
   "codemirror_mode": {
    "name": "ipython",
    "version": 3
   },
   "file_extension": ".py",
   "mimetype": "text/x-python",
   "name": "python",
   "nbconvert_exporter": "python",
   "pygments_lexer": "ipython3",
   "version": "3.8.5"
  }
 },
 "nbformat": 4,
 "nbformat_minor": 4
}
