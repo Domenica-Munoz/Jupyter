{
 "cells": [
  {
   "cell_type": "code",
   "execution_count": 1,
   "metadata": {},
   "outputs": [],
   "source": [
    "import sqlite3"
   ]
  },
  {
   "cell_type": "code",
   "execution_count": 2,
   "metadata": {},
   "outputs": [],
   "source": [
    "conexion = sqlite3.connect('trabajo.db') "
   ]
  },
  {
   "cell_type": "code",
   "execution_count": 3,
   "metadata": {},
   "outputs": [
    {
     "ename": "OperationalError",
     "evalue": "table Client already exists",
     "output_type": "error",
     "traceback": [
      "\u001b[1;31m---------------------------------------------------------------------------\u001b[0m",
      "\u001b[1;31mOperationalError\u001b[0m                          Traceback (most recent call last)",
      "\u001b[1;32m<ipython-input-3-ae46ff96477c>\u001b[0m in \u001b[0;36m<module>\u001b[1;34m\u001b[0m\n\u001b[0;32m      1\u001b[0m \u001b[0mconexion\u001b[0m \u001b[1;33m=\u001b[0m \u001b[0msqlite3\u001b[0m\u001b[1;33m.\u001b[0m\u001b[0mconnect\u001b[0m\u001b[1;33m(\u001b[0m\u001b[1;34m'trabajo.db'\u001b[0m\u001b[1;33m)\u001b[0m\u001b[1;33m\u001b[0m\u001b[1;33m\u001b[0m\u001b[0m\n\u001b[0;32m      2\u001b[0m \u001b[0mcursor\u001b[0m \u001b[1;33m=\u001b[0m \u001b[0mconexion\u001b[0m\u001b[1;33m.\u001b[0m\u001b[0mcursor\u001b[0m\u001b[1;33m(\u001b[0m\u001b[1;33m)\u001b[0m\u001b[1;33m\u001b[0m\u001b[1;33m\u001b[0m\u001b[0m\n\u001b[1;32m----> 3\u001b[1;33m \u001b[0mcursor\u001b[0m\u001b[1;33m.\u001b[0m\u001b[0mexecute\u001b[0m\u001b[1;33m(\u001b[0m\u001b[1;34m\"Create table Client (name text, direccion text, telefono text, email text)\"\u001b[0m\u001b[1;33m)\u001b[0m\u001b[1;33m\u001b[0m\u001b[1;33m\u001b[0m\u001b[0m\n\u001b[0m\u001b[0;32m      4\u001b[0m \u001b[0mcursor\u001b[0m\u001b[1;33m.\u001b[0m\u001b[0mexecute\u001b[0m\u001b[1;33m(\u001b[0m\u001b[1;34m\"Create table Producto (name text, precio int, stock int)\"\u001b[0m\u001b[1;33m)\u001b[0m\u001b[1;33m\u001b[0m\u001b[1;33m\u001b[0m\u001b[0m\n\u001b[0;32m      5\u001b[0m \u001b[0mcursor\u001b[0m\u001b[1;33m.\u001b[0m\u001b[0mexecute\u001b[0m\u001b[1;33m(\u001b[0m\u001b[1;34m\"Create table tarjeta (tarjeta text, beneficiario text,saldo int)\"\u001b[0m\u001b[1;33m)\u001b[0m\u001b[1;33m\u001b[0m\u001b[1;33m\u001b[0m\u001b[0m\n",
      "\u001b[1;31mOperationalError\u001b[0m: table Client already exists"
     ]
    }
   ],
   "source": [
    "conexion = sqlite3.connect('trabajo.db') \n",
    "cursor = conexion.cursor()\n",
    "cursor.execute(\"Create table Client (name text, direccion text, telefono text, email text)\")\n",
    "cursor.execute(\"Create table Producto (name text, precio int, stock int)\")\n",
    "cursor.execute(\"Create table tarjeta (tarjeta text, beneficiario text,saldo int)\")\n",
    "cursor.execute(\"Create table pedido (nombre text,direccion text,telefono text,email text,producto text,precio int,stock  int,catidad int,total int,saldo int, recarga int)\")\n",
    "conexion.commit()\n",
    "\n"
   ]
  },
  {
   "cell_type": "code",
   "execution_count": 4,
   "metadata": {},
   "outputs": [],
   "source": [
    "class persona:\n",
    "    def __init__ (self,name,direccion,telefono,email):\n",
    "        self.name=name\n",
    "        self.direccion=direccion\n",
    "        self.telefono=telefono\n",
    "        self.email=email\n",
    "    def print_name(self):\n",
    "        print (self.name)      "
   ]
  },
  {
   "cell_type": "code",
   "execution_count": 5,
   "metadata": {},
   "outputs": [
    {
     "name": "stdout",
     "output_type": "stream",
     "text": [
      "Juan\n",
      "Juan\n",
      "Valle\n",
      "2987561\n",
      "mary@gmail.com\n"
     ]
    }
   ],
   "source": [
    "persona1=persona('Juan','Valle','2987561','mary@gmail.com')\n",
    "persona1.print_name()\n",
    "print(persona1.name)\n",
    "print(persona1.direccion)\n",
    "print(persona1.telefono)\n",
    "print(persona1.email)"
   ]
  },
  {
   "cell_type": "code",
   "execution_count": 6,
   "metadata": {},
   "outputs": [],
   "source": [
    "cursor.execute(\"Insert into Client values('Juan','Valle','2987561','mary@gmail.com')\")\n",
    "conexion.commit()"
   ]
  },
  {
   "cell_type": "code",
   "execution_count": 7,
   "metadata": {},
   "outputs": [],
   "source": [
    "\n",
    "class producto:\n",
    "    def __init__ (self,name,precio,stock):\n",
    "        self.name=name\n",
    "        self.precio=precio\n",
    "        self.stock=stock\n",
    "    "
   ]
  },
  {
   "cell_type": "code",
   "execution_count": 8,
   "metadata": {},
   "outputs": [
    {
     "name": "stdout",
     "output_type": "stream",
     "text": [
      "carton\n",
      "23\n",
      "34\n"
     ]
    }
   ],
   "source": [
    "producto1=producto(\"carton\",23,34)\n",
    "print(producto1.name)\n",
    "print(producto1.precio)\n",
    "print(producto1.stock)"
   ]
  },
  {
   "cell_type": "code",
   "execution_count": 9,
   "metadata": {},
   "outputs": [],
   "source": [
    "class cuenta:\n",
    "    def __init__(self,tarjeta,beneficiario,saldo):\n",
    "        self.tarjeta=tarjeta\n",
    "        self.beneficiario=beneficiario\n",
    "        self.saldo=saldo"
   ]
  },
  {
   "cell_type": "code",
   "execution_count": 11,
   "metadata": {},
   "outputs": [
    {
     "name": "stdout",
     "output_type": "stream",
     "text": [
      "credito\n",
      "paul\n",
      "123\n"
     ]
    }
   ],
   "source": [
    "cuenta1=cuenta(\"credito\",\"paul\",123)\n",
    "print(cuenta1.tarjeta)\n",
    "print(cuenta1.beneficiario)\n",
    "print(cuenta1.saldo)"
   ]
  },
  {
   "cell_type": "code",
   "execution_count": 12,
   "metadata": {},
   "outputs": [],
   "source": [
    "class pedido:\n",
    "    def __init__(self,nombre,direccion,telefono,email,producto,precio,stock,cantidad,saldo):\n",
    "        self.nombre=nombre\n",
    "        self.direccion=direccion\n",
    "        self.telefono=telefono\n",
    "        self.email=email\n",
    "        self.producto=producto\n",
    "        self.precio=precio\n",
    "        self.stock=stock\n",
    "        self.cantidad=cantidad\n",
    "        self.saldo=saldo\n",
    "    "
   ]
  },
  {
   "cell_type": "code",
   "execution_count": 13,
   "metadata": {},
   "outputs": [
    {
     "name": "stdout",
     "output_type": "stream",
     "text": [
      "maria\n",
      "don bosco\n",
      "678543\n",
      "vi@gmail.com\n",
      "papel\n",
      "23\n",
      "45\n",
      "56\n"
     ]
    }
   ],
   "source": [
    "estado=pedido(\"maria\",\"don bosco\",\"678543\",\"vi@gmail.com\",\"papel\",23,45,56,78)\n",
    "print(estado.nombre)\n",
    "print(estado.direccion)\n",
    "print(estado.telefono)\n",
    "print(estado.email)\n",
    "print(estado.producto)\n",
    "print(estado.precio)\n",
    "print(estado.stock)\n",
    "print(estado.cantidad)\n",
    "                "
   ]
  },
  {
   "cell_type": "code",
   "execution_count": 14,
   "metadata": {},
   "outputs": [],
   "source": [
    "\n",
    "        def calcular(self):\n",
    "            total=precio*total\n",
    "            print(\"Productos: \", producto)\n",
    "            print(\"Precio total: \",total)\n"
   ]
  },
  {
   "cell_type": "code",
   "execution_count": 15,
   "metadata": {},
   "outputs": [],
   "source": [
    "cursor.execute(\"Insert into Producto values('papas',12,6)\")\n",
    "conexion.commit()"
   ]
  },
  {
   "cell_type": "code",
   "execution_count": 16,
   "metadata": {},
   "outputs": [],
   "source": [
    "class buscarcliente:\n",
    "    def buscar(self):\n",
    "        cursor.execute(\"Select name,direccion,telefono, email from Client where nombre \")\n",
    "        fila=cursor.fetchone()"
   ]
  },
  {
   "cell_type": "code",
   "execution_count": 17,
   "metadata": {},
   "outputs": [],
   "source": [
    " def verificar(self):\n",
    "    if saldo>cantidad:\n",
    "        print(\"tiene saldo\")"
   ]
  },
  {
   "cell_type": "code",
   "execution_count": 18,
   "metadata": {},
   "outputs": [],
   "source": [
    " def verificar(self):\n",
    "    if saldo<cantidad:\n",
    "        print(\"no tiene saldo\")"
   ]
  },
  {
   "cell_type": "code",
   "execution_count": 19,
   "metadata": {},
   "outputs": [],
   "source": [
    "def verificar(self):\n",
    "    if producto:stock\n",
    "    print(\"tiene stock\")"
   ]
  },
  {
   "cell_type": "code",
   "execution_count": 20,
   "metadata": {},
   "outputs": [],
   "source": [
    "def verificar(self):\n",
    "    if producto:stock\n",
    "    print(\"no tiene stock\")"
   ]
  },
  {
   "cell_type": "code",
   "execution_count": null,
   "metadata": {},
   "outputs": [],
   "source": []
  },
  {
   "cell_type": "code",
   "execution_count": 21,
   "metadata": {},
   "outputs": [],
   "source": [
    "cursor.execute(\"Insert into tarjetas values('credito','pepito',123)\")\n",
    "conexion.commit()"
   ]
  },
  {
   "cell_type": "code",
   "execution_count": 22,
   "metadata": {},
   "outputs": [],
   "source": [
    "cursor.execute(\"Insert into pedido values('maria','don bosco','678543','vi@gmail.com','papel',23,45,56,78,34,78)\")\n",
    "conexion.commit()"
   ]
  },
  {
   "cell_type": "code",
   "execution_count": 23,
   "metadata": {},
   "outputs": [
    {
     "ename": "OperationalError",
     "evalue": "table tarjetas already exists",
     "output_type": "error",
     "traceback": [
      "\u001b[1;31m---------------------------------------------------------------------------\u001b[0m",
      "\u001b[1;31mOperationalError\u001b[0m                          Traceback (most recent call last)",
      "\u001b[1;32m<ipython-input-23-70586213b4e2>\u001b[0m in \u001b[0;36m<module>\u001b[1;34m\u001b[0m\n\u001b[1;32m----> 1\u001b[1;33m \u001b[0mcursor\u001b[0m\u001b[1;33m.\u001b[0m\u001b[0mexecute\u001b[0m\u001b[1;33m(\u001b[0m\u001b[1;34m\"Create table tarjetas (tarjeta text, beneficiario text,saldo int)\"\u001b[0m\u001b[1;33m)\u001b[0m\u001b[1;33m\u001b[0m\u001b[1;33m\u001b[0m\u001b[0m\n\u001b[0m\u001b[0;32m      2\u001b[0m \u001b[0mconexion\u001b[0m\u001b[1;33m.\u001b[0m\u001b[0mcommit\u001b[0m\u001b[1;33m(\u001b[0m\u001b[1;33m)\u001b[0m\u001b[1;33m\u001b[0m\u001b[1;33m\u001b[0m\u001b[0m\n",
      "\u001b[1;31mOperationalError\u001b[0m: table tarjetas already exists"
     ]
    }
   ],
   "source": [
    "cursor.execute(\"Create table tarjetas (tarjeta text, beneficiario text,saldo int)\")\n",
    "conexion.commit()"
   ]
  },
  {
   "cell_type": "code",
   "execution_count": null,
   "metadata": {},
   "outputs": [
    {
     "name": "stdout",
     "output_type": "stream",
     "text": [
      "146\n"
     ]
    }
   ],
   "source": [
    "nombre=\"pepito\"\n",
    "cursor.execute(\"select saldo from tarjetas where beneficiario='pepito'\")\n",
    "saldo=cursor.fetchone()\n",
    "print(saldo[0])\n",
    "recarga=input()\n",
    "total=int(float(saldo[0]))+int(float(recarga))\n",
    "hi=\"\"\"update tarjetas set saldo=? where beneficiario=?\"\"\"\n",
    "data=(total,nombre)\n",
    "cursor.execute(hi,data)\n",
    "conexion.commit()"
   ]
  },
  {
   "cell_type": "code",
   "execution_count": null,
   "metadata": {},
   "outputs": [],
   "source": []
  },
  {
   "cell_type": "code",
   "execution_count": null,
   "metadata": {},
   "outputs": [],
   "source": []
  },
  {
   "cell_type": "code",
   "execution_count": null,
   "metadata": {},
   "outputs": [],
   "source": []
  }
 ],
 "metadata": {
  "kernelspec": {
   "display_name": "Python 3",
   "language": "python",
   "name": "python3"
  },
  "language_info": {
   "codemirror_mode": {
    "name": "ipython",
    "version": 3
   },
   "file_extension": ".py",
   "mimetype": "text/x-python",
   "name": "python",
   "nbconvert_exporter": "python",
   "pygments_lexer": "ipython3",
   "version": "3.8.5"
  }
 },
 "nbformat": 4,
 "nbformat_minor": 4
}
