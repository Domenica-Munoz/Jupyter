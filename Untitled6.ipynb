{
 "cells": [
  {
   "cell_type": "code",
   "execution_count": 1,
   "metadata": {},
   "outputs": [
    {
     "name": "stdout",
     "output_type": "stream",
     "text": [
      "Requirement already satisfied: facebook-scraper in c:\\users\\domenicamunoz\\anaconda3\\lib\\site-packages (0.2.38)\n",
      "Requirement already satisfied: demjson<3.0.0,>=2.2.4 in c:\\users\\domenicamunoz\\anaconda3\\lib\\site-packages (from facebook-scraper) (2.2.4)\n",
      "Requirement already satisfied: dateparser<2.0.0,>=1.0.0 in c:\\users\\domenicamunoz\\anaconda3\\lib\\site-packages (from facebook-scraper) (1.0.0)\n",
      "Requirement already satisfied: requests-html<0.11.0,>=0.10.0 in c:\\users\\domenicamunoz\\anaconda3\\lib\\site-packages (from facebook-scraper) (0.10.0)\n",
      "Requirement already satisfied: python-dateutil in c:\\users\\domenicamunoz\\anaconda3\\lib\\site-packages (from dateparser<2.0.0,>=1.0.0->facebook-scraper) (2.8.1)\n",
      "Requirement already satisfied: regex!=2019.02.19 in c:\\users\\domenicamunoz\\anaconda3\\lib\\site-packages (from dateparser<2.0.0,>=1.0.0->facebook-scraper) (2020.10.15)\n",
      "Requirement already satisfied: pytz in c:\\users\\domenicamunoz\\anaconda3\\lib\\site-packages (from dateparser<2.0.0,>=1.0.0->facebook-scraper) (2020.1)\n",
      "Requirement already satisfied: tzlocal in c:\\users\\domenicamunoz\\anaconda3\\lib\\site-packages (from dateparser<2.0.0,>=1.0.0->facebook-scraper) (2.1)\n",
      "Requirement already satisfied: pyquery in c:\\users\\domenicamunoz\\anaconda3\\lib\\site-packages (from requests-html<0.11.0,>=0.10.0->facebook-scraper) (1.4.3)\n",
      "Requirement already satisfied: pyppeteer>=0.0.14 in c:\\users\\domenicamunoz\\anaconda3\\lib\\site-packages (from requests-html<0.11.0,>=0.10.0->facebook-scraper) (0.2.5)\n",
      "Requirement already satisfied: parse in c:\\users\\domenicamunoz\\anaconda3\\lib\\site-packages (from requests-html<0.11.0,>=0.10.0->facebook-scraper) (1.19.0)\n",
      "Requirement already satisfied: requests in c:\\users\\domenicamunoz\\anaconda3\\lib\\site-packages (from requests-html<0.11.0,>=0.10.0->facebook-scraper) (2.24.0)\n",
      "Requirement already satisfied: w3lib in c:\\users\\domenicamunoz\\anaconda3\\lib\\site-packages (from requests-html<0.11.0,>=0.10.0->facebook-scraper) (1.22.0)\n",
      "Requirement already satisfied: bs4 in c:\\users\\domenicamunoz\\anaconda3\\lib\\site-packages (from requests-html<0.11.0,>=0.10.0->facebook-scraper) (0.0.1)\n",
      "Requirement already satisfied: fake-useragent in c:\\users\\domenicamunoz\\anaconda3\\lib\\site-packages (from requests-html<0.11.0,>=0.10.0->facebook-scraper) (0.1.11)\n",
      "Requirement already satisfied: six>=1.5 in c:\\users\\domenicamunoz\\anaconda3\\lib\\site-packages (from python-dateutil->dateparser<2.0.0,>=1.0.0->facebook-scraper) (1.15.0)\n",
      "Requirement already satisfied: lxml>=2.1 in c:\\users\\domenicamunoz\\anaconda3\\lib\\site-packages (from pyquery->requests-html<0.11.0,>=0.10.0->facebook-scraper) (4.6.1)\n",
      "Requirement already satisfied: cssselect>0.7.9 in c:\\users\\domenicamunoz\\anaconda3\\lib\\site-packages (from pyquery->requests-html<0.11.0,>=0.10.0->facebook-scraper) (1.1.0)\n",
      "Requirement already satisfied: pyee<9.0.0,>=8.1.0 in c:\\users\\domenicamunoz\\anaconda3\\lib\\site-packages (from pyppeteer>=0.0.14->requests-html<0.11.0,>=0.10.0->facebook-scraper) (8.1.0)\n",
      "Requirement already satisfied: tqdm<5.0.0,>=4.42.1 in c:\\users\\domenicamunoz\\anaconda3\\lib\\site-packages (from pyppeteer>=0.0.14->requests-html<0.11.0,>=0.10.0->facebook-scraper) (4.50.2)\n",
      "Requirement already satisfied: appdirs<2.0.0,>=1.4.3 in c:\\users\\domenicamunoz\\anaconda3\\lib\\site-packages (from pyppeteer>=0.0.14->requests-html<0.11.0,>=0.10.0->facebook-scraper) (1.4.4)\n",
      "Requirement already satisfied: websockets<9.0,>=8.1 in c:\\users\\domenicamunoz\\anaconda3\\lib\\site-packages (from pyppeteer>=0.0.14->requests-html<0.11.0,>=0.10.0->facebook-scraper) (8.1)\n",
      "Requirement already satisfied: urllib3<2.0.0,>=1.25.8 in c:\\users\\domenicamunoz\\anaconda3\\lib\\site-packages (from pyppeteer>=0.0.14->requests-html<0.11.0,>=0.10.0->facebook-scraper) (1.25.11)\n",
      "Requirement already satisfied: idna<3,>=2.5 in c:\\users\\domenicamunoz\\anaconda3\\lib\\site-packages (from requests->requests-html<0.11.0,>=0.10.0->facebook-scraper) (2.10)\n",
      "Requirement already satisfied: certifi>=2017.4.17 in c:\\users\\domenicamunoz\\anaconda3\\lib\\site-packages (from requests->requests-html<0.11.0,>=0.10.0->facebook-scraper) (2020.6.20)\n",
      "Note: you may need to restart the kernel to use updated packages.\n",
      "Requirement already satisfied: chardet<4,>=3.0.2 in c:\\users\\domenicamunoz\\anaconda3\\lib\\site-packages (from requests->requests-html<0.11.0,>=0.10.0->facebook-scraper) (3.0.4)\n",
      "Requirement already satisfied: beautifulsoup4 in c:\\users\\domenicamunoz\\anaconda3\\lib\\site-packages (from bs4->requests-html<0.11.0,>=0.10.0->facebook-scraper) (4.9.3)\n",
      "Requirement already satisfied: soupsieve>1.2; python_version >= \"3.0\" in c:\\users\\domenicamunoz\\anaconda3\\lib\\site-packages (from beautifulsoup4->bs4->requests-html<0.11.0,>=0.10.0->facebook-scraper) (2.0.1)\n"
     ]
    }
   ],
   "source": [
    "pip install facebook-scraper"
   ]
  },
  {
   "cell_type": "code",
   "execution_count": 2,
   "metadata": {},
   "outputs": [
    {
     "name": "stderr",
     "output_type": "stream",
     "text": [
      "C:\\Users\\DomenicaMunoz\\anaconda3\\lib\\site-packages\\IPython\\core\\interactiveshell.py:3418: UserWarning: A low page limit (<=2) might return no results, try increasing the limit\n",
      "  exec(code_obj, self.user_global_ns, self.user_ns)\n",
      "C:\\Users\\DomenicaMunoz\\anaconda3\\lib\\site-packages\\facebook_scraper\\facebook_scraper.py:235: UserWarning: Locale detected as es_LA - for best results, set to en_US\n",
      "  warnings.warn(f\"Locale detected as {locale} - for best results, set to en_US\")\n"
     ]
    },
    {
     "name": "stdout",
     "output_type": "stream",
     "text": [
      "{'post_id': '789095878475698', 'text': 'Nuestro compromiso y trabajo para el desarrollo de nuestro cantón Cuenca. El proyecto de regeneración urbana del Centro Parroquial y la rehabilitación del parque Central de la parroquia El Valle será una obra que ayude al progreso económico y turístico de la parroquia.\\n#CuencaUnida\\n\\nNuestro compromiso y trabajo para el desarrollo de nuestro cantón Cuenca. El proyecto de regeneración urbana del Centro Parroquial y la rehabilitación del parque Central de la parroquia El Valle será una obra que ayude al progreso económico y turístico de la parroquia.\\n\\n#CuencaUnida\\n\\n', 'post_text': 'Nuestro compromiso y trabajo para el desarrollo de nuestro cantón Cuenca. El proyecto de regeneración urbana del Centro Parroquial y la rehabilitación del parque Central de la parroquia El Valle será una obra que ayude al progreso económico y turístico de la parroquia.\\n#CuencaUnida\\n\\nNuestro compromiso y trabajo para el desarrollo de nuestro cantón Cuenca. El proyecto de regeneración urbana del Centro Parroquial y la rehabilitación del parque Central de la parroquia El Valle será una obra que ayude al progreso económico y turístico de la parroquia.\\n\\n#CuencaUnida\\n\\n', 'shared_text': '', 'time': datetime.datetime(2021, 5, 31, 12, 47, 58), 'image': None, 'image_lowquality': 'https://scontent.fcue1-1.fna.fbcdn.net/v/t1.6435-0/cp0/e15/q65/s320x320/193341396_789095795142373_8438068217236113712_n.jpg?_nc_cat=105&ccb=1-3&_nc_sid=110474&_nc_ohc=dXEgTeQD9wUAX-meo7L&_nc_ht=scontent.fcue1-1.fna&tp=9&oh=616b06fa62631e596b2dedfe97f7dbf9&oe=60DA76A6', 'images': [None, None, None], 'images_description': ['Puede ser una imagen de una o varias personas, personas de pie e interior', 'Puede ser una imagen de una o varias personas, personas de pie y personas sentadas', 'Puede ser una imagen de una o varias personas y personas de pie'], 'images_lowquality': ['https://scontent.fcue1-1.fna.fbcdn.net/v/t1.6435-0/cp0/e15/q65/s320x320/193341396_789095795142373_8438068217236113712_n.jpg?_nc_cat=105&ccb=1-3&_nc_sid=110474&_nc_ohc=dXEgTeQD9wUAX-meo7L&_nc_ht=scontent.fcue1-1.fna&tp=9&oh=616b06fa62631e596b2dedfe97f7dbf9&oe=60DA76A6', 'https://scontent.fcue1-1.fna.fbcdn.net/v/t1.6435-0/cp0/e15/q65/s240x240/191637929_789095825142370_6582183138748769100_n.jpg?_nc_cat=109&ccb=1-3&_nc_sid=110474&_nc_ohc=AfCom9BXy9EAX-yyast&_nc_ht=scontent.fcue1-1.fna&tp=9&oh=fca439409af03ae7fb05ba067e6ef687&oe=60DB002F', 'https://scontent.fcue1-1.fna.fbcdn.net/v/t1.6435-0/cp0/e15/q65/s240x240/192028904_789095845142368_8126303286562721308_n.jpg?_nc_cat=109&ccb=1-3&_nc_sid=110474&_nc_ohc=WgW57jR6ZaAAX89F_R1&_nc_ht=scontent.fcue1-1.fna&tp=9&oh=b9884cdedd0b9b6fb46d45ffbebfe8d4&oe=60D919F0'], 'images_lowquality_description': ['Puede ser una imagen de una o varias personas, personas de pie e interior', 'Puede ser una imagen de una o varias personas, personas de pie y personas sentadas', 'Puede ser una imagen de una o varias personas y personas de pie'], 'video': None, 'video_duration_seconds': None, 'video_height': None, 'video_id': None, 'video_quality': None, 'video_size_MB': None, 'video_thumbnail': None, 'video_watches': None, 'video_width': None, 'likes': 211, 'comments': 30, 'shares': 55, 'post_url': 'https://facebook.com/PedroPalaciosU/posts/789095878475698', 'link': None, 'user_id': '145977139454245', 'username': 'Pedro Palacios Ullauri', 'user_url': 'https://facebook.com/PedroPalaciosU/?__tn__=C-R', 'is_live': False, 'factcheck': None, 'shared_post_id': None, 'shared_time': None, 'shared_user_id': None, 'shared_username': None, 'shared_post_url': None, 'available': True, 'comments_full': None, 'reactors': None, 'w3_fb_url': None, 'reactions': None, 'reaction_count': None}\n",
      "{'post_id': '788033331915286', 'text': 'Recorremos las obras de los cuencanos en la parroquia Monay, donde generamos 240 empleos directos e indirectos. Nuestra ciudad se reactiva económicamente.\\n#CuencaUnida\\n\\nRecorremos las obras de los cuencanos en la parroquia Monay, donde generamos 240 empleos directos e indirectos. Nuestra ciudad se reactiva económicamente.\\n\\n#CuencaUnida\\n\\n', 'post_text': 'Recorremos las obras de los cuencanos en la parroquia Monay, donde generamos 240 empleos directos e indirectos. Nuestra ciudad se reactiva económicamente.\\n#CuencaUnida\\n\\nRecorremos las obras de los cuencanos en la parroquia Monay, donde generamos 240 empleos directos e indirectos. Nuestra ciudad se reactiva económicamente.\\n\\n#CuencaUnida\\n\\n', 'shared_text': '', 'time': datetime.datetime(2021, 5, 29, 11, 20, 14), 'image': None, 'image_lowquality': 'https://scontent.fcue1-1.fna.fbcdn.net/v/t1.6435-0/cp0/e15/q65/s320x320/191580929_788033208581965_7481998650775139034_n.jpg?_nc_cat=105&ccb=1-3&_nc_sid=110474&_nc_ohc=MXcz8fbT79sAX-29KAf&_nc_ht=scontent.fcue1-1.fna&tp=9&oh=6ce271b8290c5678036c27c77db27fc9&oe=60DB32ED', 'images': [None, None, None, None], 'images_description': ['Puede ser una imagen de una o varias personas, personas de pie y al aire libre', 'Puede ser una imagen de al aire libre y árbol', 'Puede ser una imagen de una o varias personas, personas de pie y al aire libre', 'Puede ser una imagen de una o varias personas, personas de pie y al aire libre'], 'images_lowquality': ['https://scontent.fcue1-1.fna.fbcdn.net/v/t1.6435-0/cp0/e15/q65/s320x320/191580929_788033208581965_7481998650775139034_n.jpg?_nc_cat=105&ccb=1-3&_nc_sid=110474&_nc_ohc=MXcz8fbT79sAX-29KAf&_nc_ht=scontent.fcue1-1.fna&tp=9&oh=6ce271b8290c5678036c27c77db27fc9&oe=60DB32ED', 'https://scontent.fcue1-1.fna.fbcdn.net/v/t1.6435-0/cp0/e15/q65/s160x160/191169347_788033238581962_4339954490698058132_n.jpg?_nc_cat=107&ccb=1-3&_nc_sid=110474&_nc_ohc=5KXn3UpeN5MAX_noQzs&_nc_ht=scontent.fcue1-1.fna&tp=9&oh=1e854855bd9a2b5cd97663d17117dc6a&oe=60DC7F86', 'https://scontent.fcue1-1.fna.fbcdn.net/v/t1.6435-0/cp0/e15/q65/s160x160/191483973_788033265248626_4454659602711747292_n.jpg?_nc_cat=108&ccb=1-3&_nc_sid=110474&_nc_ohc=lawFuOtjwXsAX95MNyS&_nc_ht=scontent.fcue1-1.fna&tp=9&oh=9303a6e573d6ac763b775b237a3290d0&oe=60D97CBC', 'https://scontent.fcue1-1.fna.fbcdn.net/v/t1.6435-0/cp0/e15/q65/s160x160/191019271_788033298581956_138581897121700543_n.jpg?_nc_cat=110&ccb=1-3&_nc_sid=110474&_nc_ohc=VkE7pGAoDWcAX8wBKEw&_nc_ht=scontent.fcue1-1.fna&tp=9&oh=8dbf73889d29b4426082b29891e25fdb&oe=60D994DA'], 'images_lowquality_description': ['Puede ser una imagen de una o varias personas, personas de pie y al aire libre', 'Puede ser una imagen de al aire libre y árbol', 'Puede ser una imagen de una o varias personas, personas de pie y al aire libre', 'Puede ser una imagen de una o varias personas, personas de pie y al aire libre'], 'video': None, 'video_duration_seconds': None, 'video_height': None, 'video_id': None, 'video_quality': None, 'video_size_MB': None, 'video_thumbnail': None, 'video_watches': None, 'video_width': None, 'likes': 347, 'comments': 46, 'shares': 85, 'post_url': 'https://facebook.com/PedroPalaciosU/posts/788033331915286', 'link': None, 'user_id': '145977139454245', 'username': 'Pedro Palacios Ullauri', 'user_url': 'https://facebook.com/PedroPalaciosU/?__tn__=C-R', 'is_live': False, 'factcheck': None, 'shared_post_id': None, 'shared_time': None, 'shared_user_id': None, 'shared_username': None, 'shared_post_url': None, 'available': True, 'comments_full': None, 'reactors': None, 'w3_fb_url': None, 'reactions': None, 'reaction_count': None}\n"
     ]
    }
   ],
   "source": [
    "from facebook_scraper import get_posts\n",
    "for post in get_posts('PedroPalaciosU', pages=1):\n",
    "    print(post)\n",
    "    #print(post[\"likes\"])  \n",
    "    #print(post['comments_full'])\n",
    "    #print(post['text'])\n",
    "    #print(post['images'])"
   ]
  },
  {
   "cell_type": "code",
   "execution_count": 3,
   "metadata": {},
   "outputs": [
    {
     "name": "stdout",
     "output_type": "stream",
     "text": [
      "Requirement already satisfied: neo4j in c:\\users\\domenicamunoz\\anaconda3\\lib\\site-packages (4.3.0)\n",
      "Requirement already satisfied: pytz in c:\\users\\domenicamunoz\\anaconda3\\lib\\site-packages (from neo4j) (2020.1)\n",
      "Note: you may need to restart the kernel to use updated packages.\n"
     ]
    }
   ],
   "source": [
    "pip install neo4j"
   ]
  },
  {
   "cell_type": "code",
   "execution_count": 5,
   "metadata": {},
   "outputs": [],
   "source": [
    "from neo4j import GraphDatabase \n",
    "class Neo4jService(object):\n",
    "\n",
    "    def __init__ (self, uri, user, password):\n",
    "        self._driver = GraphDatabase.driver(uri, auth=(user, password))\n",
    "\n",
    "    def close(self):\n",
    "        self._driver.close()\n",
    "    def crear_alcaldes(self, tx, nombre):\n",
    "        tx.run(\"CREATE (:alcaldes {nombre: $nombre})\", nombre=nombre)\n",
    "    def crear_noticia(self, tx, nombre):\n",
    "        tx.run(\"CREATE (:noticia {nombre: $nombre})\", nombre=nombre)\n",
    "    def crear_links(self, tx, nombre):\n",
    "        tx.run(\"CREATE (:links {nombre: $nombre})\", nombre=nombre)\n",
    "        \n",
    "    def crear_contenido(self, tx, nombre):\n",
    "        tx.run(\"CREATE (:contenido {nombre: $nombre})\", nombre=nombre)\n",
    "        \n",
    "    def crear_titulo(self, tx, nombre):\n",
    "        tx.run(\"CREATE (:titulo {nombre: $nombre})\", nombre=nombre)\n",
    "\n",
    "    def crear_fecha(self, tx, nombre):\n",
    "        tx.run(\"CREATE (:fecha {nombre: $nombre})\", nombre=nombre)\n",
    "    def crear_likes(self, tx, nombre):\n",
    "        tx.run(\"CREATE (:likes {nombre: $nombre})\", nombre=nombre)\n",
    "    \n",
    "    def crear_relacion_AN(self, tx, nombre_alcalde,nombre_noticia):\n",
    "        tx.run(\"MATCH (a:alcaldes {nombre: $nombre_alcalde}) \"\n",
    "               \"MATCH (b:noticia {nombre: $nombre_noticia}) \"\n",
    "               \"MERGE (a)-[:alcalde_noticia]->(b)\",\n",
    "               nombre_alcalde=nombre_alcalde, nombre_noticia=nombre_noticia)\n",
    "    def crear_relacion_AL(self, tx, nombre_alcalde,nombre_links):\n",
    "        tx.run(\"MATCH (a:alcaldes {nombre: $nombre_alcalde}) \"\n",
    "               \"MATCH (b:links {nombre: $nombre_links}) \"\n",
    "               \"MERGE (a)-[:alcalde_links]->(b)\",\n",
    "               nombre_alcalde=nombre_alcalde, nombre_links=nombre_links)\n",
    "    def crear_relacion_AT(self, tx, nombre_alcalde,nombre_titulo):\n",
    "        tx.run(\"MATCH (a:alcaldes {nombre: $nombre_alcalde}) \"\n",
    "               \"MATCH (b:titulo {nombre: $nombre_titulo}) \"\n",
    "               \"MERGE (a)-[:alcalde_titulo]->(b)\",\n",
    "               nombre_alcalde=nombre_alcalde, nombre_titulo=nombre_titulo)\n",
    "    def crear_relacion_AF(self, tx, nombre_alcalde,nombre_fecha):\n",
    "        tx.run(\"MATCH (a:alcaldes {nombre: $nombre_alcalde}) \"\n",
    "               \"MATCH (b:fecha {nombre: $nombre_fecha}) \"\n",
    "               \"MERGE (a)-[:alcalde_fecha]->(b)\",\n",
    "               nombre_alcalde=nombre_alcalde, nombre_fecha=nombre_fecha)\n",
    "    def crear_relacion_ALI(self, tx, nombre_alcalde,nombre_likes):\n",
    "        tx.run(\"MATCH (a:alcaldes {nombre: $nombre_alcalde}) \"\n",
    "               \"MATCH (b:likes {nombre: $nombre_likes}) \"\n",
    "               \"MERGE (a)-[:alcalde_likes]->(b)\",\n",
    "               nombre_alcalde=nombre_alcalde, nombre_likes=nombre_likes)\n",
    "    "
   ]
  },
  {
   "cell_type": "code",
   "execution_count": 6,
   "metadata": {},
   "outputs": [
    {
     "ename": "ConnectionError",
     "evalue": "HTTPSConnectionPool(host='m.facebook.com', port=443): Max retries exceeded with url: /page_content_list_view/more/?page_id=145977139454245&start_cursor=%7B%22timeline_cursor%22%3A%22AQHRPoH5xZ9FWg5kp0yTpCZjUepiScMHxGjsCHiGThf1-wXexCPURxdkL5dZCunlhX-BXxmUpn5ImgH7QrWO7yrIZEIiXgy63UEOLUNX3N1oCoBQGXh4L70ErTEOn0qy6qwt%22%2C%22timeline_section_cursor%22%3Anull%2C%22has_next_page%22%3Atrue%7D&num_to_fetch=4&surface_type=posts_tab (Caused by NewConnectionError('<urllib3.connection.HTTPSConnection object at 0x00000239F009A370>: Failed to establish a new connection: [Errno 11001] getaddrinfo failed'))",
     "output_type": "error",
     "traceback": [
      "\u001b[1;31m---------------------------------------------------------------------------\u001b[0m",
      "\u001b[1;31mgaierror\u001b[0m                                  Traceback (most recent call last)",
      "\u001b[1;32m~\\anaconda3\\lib\\site-packages\\urllib3\\connection.py\u001b[0m in \u001b[0;36m_new_conn\u001b[1;34m(self)\u001b[0m\n\u001b[0;32m    158\u001b[0m         \u001b[1;32mtry\u001b[0m\u001b[1;33m:\u001b[0m\u001b[1;33m\u001b[0m\u001b[1;33m\u001b[0m\u001b[0m\n\u001b[1;32m--> 159\u001b[1;33m             conn = connection.create_connection(\n\u001b[0m\u001b[0;32m    160\u001b[0m                 \u001b[1;33m(\u001b[0m\u001b[0mself\u001b[0m\u001b[1;33m.\u001b[0m\u001b[0m_dns_host\u001b[0m\u001b[1;33m,\u001b[0m \u001b[0mself\u001b[0m\u001b[1;33m.\u001b[0m\u001b[0mport\u001b[0m\u001b[1;33m)\u001b[0m\u001b[1;33m,\u001b[0m \u001b[0mself\u001b[0m\u001b[1;33m.\u001b[0m\u001b[0mtimeout\u001b[0m\u001b[1;33m,\u001b[0m \u001b[1;33m**\u001b[0m\u001b[0mextra_kw\u001b[0m\u001b[1;33m\u001b[0m\u001b[1;33m\u001b[0m\u001b[0m\n",
      "\u001b[1;32m~\\anaconda3\\lib\\site-packages\\urllib3\\util\\connection.py\u001b[0m in \u001b[0;36mcreate_connection\u001b[1;34m(address, timeout, source_address, socket_options)\u001b[0m\n\u001b[0;32m     60\u001b[0m \u001b[1;33m\u001b[0m\u001b[0m\n\u001b[1;32m---> 61\u001b[1;33m     \u001b[1;32mfor\u001b[0m \u001b[0mres\u001b[0m \u001b[1;32min\u001b[0m \u001b[0msocket\u001b[0m\u001b[1;33m.\u001b[0m\u001b[0mgetaddrinfo\u001b[0m\u001b[1;33m(\u001b[0m\u001b[0mhost\u001b[0m\u001b[1;33m,\u001b[0m \u001b[0mport\u001b[0m\u001b[1;33m,\u001b[0m \u001b[0mfamily\u001b[0m\u001b[1;33m,\u001b[0m \u001b[0msocket\u001b[0m\u001b[1;33m.\u001b[0m\u001b[0mSOCK_STREAM\u001b[0m\u001b[1;33m)\u001b[0m\u001b[1;33m:\u001b[0m\u001b[1;33m\u001b[0m\u001b[1;33m\u001b[0m\u001b[0m\n\u001b[0m\u001b[0;32m     62\u001b[0m         \u001b[0maf\u001b[0m\u001b[1;33m,\u001b[0m \u001b[0msocktype\u001b[0m\u001b[1;33m,\u001b[0m \u001b[0mproto\u001b[0m\u001b[1;33m,\u001b[0m \u001b[0mcanonname\u001b[0m\u001b[1;33m,\u001b[0m \u001b[0msa\u001b[0m \u001b[1;33m=\u001b[0m \u001b[0mres\u001b[0m\u001b[1;33m\u001b[0m\u001b[1;33m\u001b[0m\u001b[0m\n",
      "\u001b[1;32m~\\anaconda3\\lib\\socket.py\u001b[0m in \u001b[0;36mgetaddrinfo\u001b[1;34m(host, port, family, type, proto, flags)\u001b[0m\n\u001b[0;32m    917\u001b[0m     \u001b[0maddrlist\u001b[0m \u001b[1;33m=\u001b[0m \u001b[1;33m[\u001b[0m\u001b[1;33m]\u001b[0m\u001b[1;33m\u001b[0m\u001b[1;33m\u001b[0m\u001b[0m\n\u001b[1;32m--> 918\u001b[1;33m     \u001b[1;32mfor\u001b[0m \u001b[0mres\u001b[0m \u001b[1;32min\u001b[0m \u001b[0m_socket\u001b[0m\u001b[1;33m.\u001b[0m\u001b[0mgetaddrinfo\u001b[0m\u001b[1;33m(\u001b[0m\u001b[0mhost\u001b[0m\u001b[1;33m,\u001b[0m \u001b[0mport\u001b[0m\u001b[1;33m,\u001b[0m \u001b[0mfamily\u001b[0m\u001b[1;33m,\u001b[0m \u001b[0mtype\u001b[0m\u001b[1;33m,\u001b[0m \u001b[0mproto\u001b[0m\u001b[1;33m,\u001b[0m \u001b[0mflags\u001b[0m\u001b[1;33m)\u001b[0m\u001b[1;33m:\u001b[0m\u001b[1;33m\u001b[0m\u001b[1;33m\u001b[0m\u001b[0m\n\u001b[0m\u001b[0;32m    919\u001b[0m         \u001b[0maf\u001b[0m\u001b[1;33m,\u001b[0m \u001b[0msocktype\u001b[0m\u001b[1;33m,\u001b[0m \u001b[0mproto\u001b[0m\u001b[1;33m,\u001b[0m \u001b[0mcanonname\u001b[0m\u001b[1;33m,\u001b[0m \u001b[0msa\u001b[0m \u001b[1;33m=\u001b[0m \u001b[0mres\u001b[0m\u001b[1;33m\u001b[0m\u001b[1;33m\u001b[0m\u001b[0m\n",
      "\u001b[1;31mgaierror\u001b[0m: [Errno 11001] getaddrinfo failed",
      "\nDuring handling of the above exception, another exception occurred:\n",
      "\u001b[1;31mNewConnectionError\u001b[0m                        Traceback (most recent call last)",
      "\u001b[1;32m~\\anaconda3\\lib\\site-packages\\urllib3\\connectionpool.py\u001b[0m in \u001b[0;36murlopen\u001b[1;34m(self, method, url, body, headers, retries, redirect, assert_same_host, timeout, pool_timeout, release_conn, chunked, body_pos, **response_kw)\u001b[0m\n\u001b[0;32m    669\u001b[0m             \u001b[1;31m# Make the request on the httplib connection object.\u001b[0m\u001b[1;33m\u001b[0m\u001b[1;33m\u001b[0m\u001b[1;33m\u001b[0m\u001b[0m\n\u001b[1;32m--> 670\u001b[1;33m             httplib_response = self._make_request(\n\u001b[0m\u001b[0;32m    671\u001b[0m                 \u001b[0mconn\u001b[0m\u001b[1;33m,\u001b[0m\u001b[1;33m\u001b[0m\u001b[1;33m\u001b[0m\u001b[0m\n",
      "\u001b[1;32m~\\anaconda3\\lib\\site-packages\\urllib3\\connectionpool.py\u001b[0m in \u001b[0;36m_make_request\u001b[1;34m(self, conn, method, url, timeout, chunked, **httplib_request_kw)\u001b[0m\n\u001b[0;32m    380\u001b[0m         \u001b[1;32mtry\u001b[0m\u001b[1;33m:\u001b[0m\u001b[1;33m\u001b[0m\u001b[1;33m\u001b[0m\u001b[0m\n\u001b[1;32m--> 381\u001b[1;33m             \u001b[0mself\u001b[0m\u001b[1;33m.\u001b[0m\u001b[0m_validate_conn\u001b[0m\u001b[1;33m(\u001b[0m\u001b[0mconn\u001b[0m\u001b[1;33m)\u001b[0m\u001b[1;33m\u001b[0m\u001b[1;33m\u001b[0m\u001b[0m\n\u001b[0m\u001b[0;32m    382\u001b[0m         \u001b[1;32mexcept\u001b[0m \u001b[1;33m(\u001b[0m\u001b[0mSocketTimeout\u001b[0m\u001b[1;33m,\u001b[0m \u001b[0mBaseSSLError\u001b[0m\u001b[1;33m)\u001b[0m \u001b[1;32mas\u001b[0m \u001b[0me\u001b[0m\u001b[1;33m:\u001b[0m\u001b[1;33m\u001b[0m\u001b[1;33m\u001b[0m\u001b[0m\n",
      "\u001b[1;32m~\\anaconda3\\lib\\site-packages\\urllib3\\connectionpool.py\u001b[0m in \u001b[0;36m_validate_conn\u001b[1;34m(self, conn)\u001b[0m\n\u001b[0;32m    977\u001b[0m         \u001b[1;32mif\u001b[0m \u001b[1;32mnot\u001b[0m \u001b[0mgetattr\u001b[0m\u001b[1;33m(\u001b[0m\u001b[0mconn\u001b[0m\u001b[1;33m,\u001b[0m \u001b[1;34m\"sock\"\u001b[0m\u001b[1;33m,\u001b[0m \u001b[1;32mNone\u001b[0m\u001b[1;33m)\u001b[0m\u001b[1;33m:\u001b[0m  \u001b[1;31m# AppEngine might not have  `.sock`\u001b[0m\u001b[1;33m\u001b[0m\u001b[1;33m\u001b[0m\u001b[0m\n\u001b[1;32m--> 978\u001b[1;33m             \u001b[0mconn\u001b[0m\u001b[1;33m.\u001b[0m\u001b[0mconnect\u001b[0m\u001b[1;33m(\u001b[0m\u001b[1;33m)\u001b[0m\u001b[1;33m\u001b[0m\u001b[1;33m\u001b[0m\u001b[0m\n\u001b[0m\u001b[0;32m    979\u001b[0m \u001b[1;33m\u001b[0m\u001b[0m\n",
      "\u001b[1;32m~\\anaconda3\\lib\\site-packages\\urllib3\\connection.py\u001b[0m in \u001b[0;36mconnect\u001b[1;34m(self)\u001b[0m\n\u001b[0;32m    308\u001b[0m         \u001b[1;31m# Add certificate verification\u001b[0m\u001b[1;33m\u001b[0m\u001b[1;33m\u001b[0m\u001b[1;33m\u001b[0m\u001b[0m\n\u001b[1;32m--> 309\u001b[1;33m         \u001b[0mconn\u001b[0m \u001b[1;33m=\u001b[0m \u001b[0mself\u001b[0m\u001b[1;33m.\u001b[0m\u001b[0m_new_conn\u001b[0m\u001b[1;33m(\u001b[0m\u001b[1;33m)\u001b[0m\u001b[1;33m\u001b[0m\u001b[1;33m\u001b[0m\u001b[0m\n\u001b[0m\u001b[0;32m    310\u001b[0m         \u001b[0mhostname\u001b[0m \u001b[1;33m=\u001b[0m \u001b[0mself\u001b[0m\u001b[1;33m.\u001b[0m\u001b[0mhost\u001b[0m\u001b[1;33m\u001b[0m\u001b[1;33m\u001b[0m\u001b[0m\n",
      "\u001b[1;32m~\\anaconda3\\lib\\site-packages\\urllib3\\connection.py\u001b[0m in \u001b[0;36m_new_conn\u001b[1;34m(self)\u001b[0m\n\u001b[0;32m    170\u001b[0m         \u001b[1;32mexcept\u001b[0m \u001b[0mSocketError\u001b[0m \u001b[1;32mas\u001b[0m \u001b[0me\u001b[0m\u001b[1;33m:\u001b[0m\u001b[1;33m\u001b[0m\u001b[1;33m\u001b[0m\u001b[0m\n\u001b[1;32m--> 171\u001b[1;33m             raise NewConnectionError(\n\u001b[0m\u001b[0;32m    172\u001b[0m                 \u001b[0mself\u001b[0m\u001b[1;33m,\u001b[0m \u001b[1;34m\"Failed to establish a new connection: %s\"\u001b[0m \u001b[1;33m%\u001b[0m \u001b[0me\u001b[0m\u001b[1;33m\u001b[0m\u001b[1;33m\u001b[0m\u001b[0m\n",
      "\u001b[1;31mNewConnectionError\u001b[0m: <urllib3.connection.HTTPSConnection object at 0x00000239F009A370>: Failed to establish a new connection: [Errno 11001] getaddrinfo failed",
      "\nDuring handling of the above exception, another exception occurred:\n",
      "\u001b[1;31mMaxRetryError\u001b[0m                             Traceback (most recent call last)",
      "\u001b[1;32m~\\anaconda3\\lib\\site-packages\\requests\\adapters.py\u001b[0m in \u001b[0;36msend\u001b[1;34m(self, request, stream, timeout, verify, cert, proxies)\u001b[0m\n\u001b[0;32m    438\u001b[0m             \u001b[1;32mif\u001b[0m \u001b[1;32mnot\u001b[0m \u001b[0mchunked\u001b[0m\u001b[1;33m:\u001b[0m\u001b[1;33m\u001b[0m\u001b[1;33m\u001b[0m\u001b[0m\n\u001b[1;32m--> 439\u001b[1;33m                 resp = conn.urlopen(\n\u001b[0m\u001b[0;32m    440\u001b[0m                     \u001b[0mmethod\u001b[0m\u001b[1;33m=\u001b[0m\u001b[0mrequest\u001b[0m\u001b[1;33m.\u001b[0m\u001b[0mmethod\u001b[0m\u001b[1;33m,\u001b[0m\u001b[1;33m\u001b[0m\u001b[1;33m\u001b[0m\u001b[0m\n",
      "\u001b[1;32m~\\anaconda3\\lib\\site-packages\\urllib3\\connectionpool.py\u001b[0m in \u001b[0;36murlopen\u001b[1;34m(self, method, url, body, headers, retries, redirect, assert_same_host, timeout, pool_timeout, release_conn, chunked, body_pos, **response_kw)\u001b[0m\n\u001b[0;32m    725\u001b[0m \u001b[1;33m\u001b[0m\u001b[0m\n\u001b[1;32m--> 726\u001b[1;33m             retries = retries.increment(\n\u001b[0m\u001b[0;32m    727\u001b[0m                 \u001b[0mmethod\u001b[0m\u001b[1;33m,\u001b[0m \u001b[0murl\u001b[0m\u001b[1;33m,\u001b[0m \u001b[0merror\u001b[0m\u001b[1;33m=\u001b[0m\u001b[0me\u001b[0m\u001b[1;33m,\u001b[0m \u001b[0m_pool\u001b[0m\u001b[1;33m=\u001b[0m\u001b[0mself\u001b[0m\u001b[1;33m,\u001b[0m \u001b[0m_stacktrace\u001b[0m\u001b[1;33m=\u001b[0m\u001b[0msys\u001b[0m\u001b[1;33m.\u001b[0m\u001b[0mexc_info\u001b[0m\u001b[1;33m(\u001b[0m\u001b[1;33m)\u001b[0m\u001b[1;33m[\u001b[0m\u001b[1;36m2\u001b[0m\u001b[1;33m]\u001b[0m\u001b[1;33m\u001b[0m\u001b[1;33m\u001b[0m\u001b[0m\n",
      "\u001b[1;32m~\\anaconda3\\lib\\site-packages\\urllib3\\util\\retry.py\u001b[0m in \u001b[0;36mincrement\u001b[1;34m(self, method, url, response, error, _pool, _stacktrace)\u001b[0m\n\u001b[0;32m    445\u001b[0m         \u001b[1;32mif\u001b[0m \u001b[0mnew_retry\u001b[0m\u001b[1;33m.\u001b[0m\u001b[0mis_exhausted\u001b[0m\u001b[1;33m(\u001b[0m\u001b[1;33m)\u001b[0m\u001b[1;33m:\u001b[0m\u001b[1;33m\u001b[0m\u001b[1;33m\u001b[0m\u001b[0m\n\u001b[1;32m--> 446\u001b[1;33m             \u001b[1;32mraise\u001b[0m \u001b[0mMaxRetryError\u001b[0m\u001b[1;33m(\u001b[0m\u001b[0m_pool\u001b[0m\u001b[1;33m,\u001b[0m \u001b[0murl\u001b[0m\u001b[1;33m,\u001b[0m \u001b[0merror\u001b[0m \u001b[1;32mor\u001b[0m \u001b[0mResponseError\u001b[0m\u001b[1;33m(\u001b[0m\u001b[0mcause\u001b[0m\u001b[1;33m)\u001b[0m\u001b[1;33m)\u001b[0m\u001b[1;33m\u001b[0m\u001b[1;33m\u001b[0m\u001b[0m\n\u001b[0m\u001b[0;32m    447\u001b[0m \u001b[1;33m\u001b[0m\u001b[0m\n",
      "\u001b[1;31mMaxRetryError\u001b[0m: HTTPSConnectionPool(host='m.facebook.com', port=443): Max retries exceeded with url: /page_content_list_view/more/?page_id=145977139454245&start_cursor=%7B%22timeline_cursor%22%3A%22AQHRPoH5xZ9FWg5kp0yTpCZjUepiScMHxGjsCHiGThf1-wXexCPURxdkL5dZCunlhX-BXxmUpn5ImgH7QrWO7yrIZEIiXgy63UEOLUNX3N1oCoBQGXh4L70ErTEOn0qy6qwt%22%2C%22timeline_section_cursor%22%3Anull%2C%22has_next_page%22%3Atrue%7D&num_to_fetch=4&surface_type=posts_tab (Caused by NewConnectionError('<urllib3.connection.HTTPSConnection object at 0x00000239F009A370>: Failed to establish a new connection: [Errno 11001] getaddrinfo failed'))",
      "\nDuring handling of the above exception, another exception occurred:\n",
      "\u001b[1;31mConnectionError\u001b[0m                           Traceback (most recent call last)",
      "\u001b[1;32m<ipython-input-6-5a3ab022bb20>\u001b[0m in \u001b[0;36m<module>\u001b[1;34m\u001b[0m\n\u001b[0;32m      3\u001b[0m     \u001b[1;32mfrom\u001b[0m \u001b[0mfacebook_scraper\u001b[0m \u001b[1;32mimport\u001b[0m \u001b[0mget_posts\u001b[0m\u001b[1;33m\u001b[0m\u001b[1;33m\u001b[0m\u001b[0m\n\u001b[0;32m      4\u001b[0m     \u001b[0msession\u001b[0m\u001b[1;33m.\u001b[0m\u001b[0mwrite_transaction\u001b[0m\u001b[1;33m(\u001b[0m\u001b[0mneo4j\u001b[0m\u001b[1;33m.\u001b[0m\u001b[0mcrear_alcaldes\u001b[0m \u001b[1;33m,\u001b[0m \u001b[1;34m\"Pedro Palacios Ullauri\"\u001b[0m\u001b[1;33m)\u001b[0m\u001b[1;33m\u001b[0m\u001b[1;33m\u001b[0m\u001b[0m\n\u001b[1;32m----> 5\u001b[1;33m \u001b[1;32mfor\u001b[0m \u001b[0mpost\u001b[0m \u001b[1;32min\u001b[0m \u001b[0mget_posts\u001b[0m\u001b[1;33m(\u001b[0m\u001b[1;34m'PedroPalaciosU'\u001b[0m\u001b[1;33m,\u001b[0m \u001b[0mpages\u001b[0m\u001b[1;33m=\u001b[0m\u001b[1;36m300\u001b[0m\u001b[1;33m)\u001b[0m\u001b[1;33m:\u001b[0m\u001b[1;33m\u001b[0m\u001b[1;33m\u001b[0m\u001b[0m\n\u001b[0m\u001b[0;32m      6\u001b[0m     \u001b[1;31m#print(post)\u001b[0m\u001b[1;33m\u001b[0m\u001b[1;33m\u001b[0m\u001b[1;33m\u001b[0m\u001b[0m\n\u001b[0;32m      7\u001b[0m     \u001b[1;31m#print(post[\"likes\"])\u001b[0m\u001b[1;33m\u001b[0m\u001b[1;33m\u001b[0m\u001b[1;33m\u001b[0m\u001b[0m\n",
      "\u001b[1;32m~\\anaconda3\\lib\\site-packages\\facebook_scraper\\facebook_scraper.py\u001b[0m in \u001b[0;36m_generic_get_posts\u001b[1;34m(self, extract_post_fn, iter_pages_fn, page_limit, options, remove_source, **kwargs)\u001b[0m\n\u001b[0;32m    331\u001b[0m \u001b[1;33m\u001b[0m\u001b[0m\n\u001b[0;32m    332\u001b[0m         \u001b[0mlogger\u001b[0m\u001b[1;33m.\u001b[0m\u001b[0mdebug\u001b[0m\u001b[1;33m(\u001b[0m\u001b[1;34m\"Starting to iterate pages\"\u001b[0m\u001b[1;33m)\u001b[0m\u001b[1;33m\u001b[0m\u001b[1;33m\u001b[0m\u001b[0m\n\u001b[1;32m--> 333\u001b[1;33m         \u001b[1;32mfor\u001b[0m \u001b[0mi\u001b[0m\u001b[1;33m,\u001b[0m \u001b[0mpage\u001b[0m \u001b[1;32min\u001b[0m \u001b[0mzip\u001b[0m\u001b[1;33m(\u001b[0m\u001b[0mcounter\u001b[0m\u001b[1;33m,\u001b[0m \u001b[0miter_pages_fn\u001b[0m\u001b[1;33m(\u001b[0m\u001b[1;33m)\u001b[0m\u001b[1;33m)\u001b[0m\u001b[1;33m:\u001b[0m\u001b[1;33m\u001b[0m\u001b[1;33m\u001b[0m\u001b[0m\n\u001b[0m\u001b[0;32m    334\u001b[0m             \u001b[0mlogger\u001b[0m\u001b[1;33m.\u001b[0m\u001b[0mdebug\u001b[0m\u001b[1;33m(\u001b[0m\u001b[1;34m\"Extracting posts from page %s\"\u001b[0m\u001b[1;33m,\u001b[0m \u001b[0mi\u001b[0m\u001b[1;33m)\u001b[0m\u001b[1;33m\u001b[0m\u001b[1;33m\u001b[0m\u001b[0m\n\u001b[0;32m    335\u001b[0m             \u001b[1;32mfor\u001b[0m \u001b[0mpost_element\u001b[0m \u001b[1;32min\u001b[0m \u001b[0mpage\u001b[0m\u001b[1;33m:\u001b[0m\u001b[1;33m\u001b[0m\u001b[1;33m\u001b[0m\u001b[0m\n",
      "\u001b[1;32m~\\anaconda3\\lib\\site-packages\\facebook_scraper\\page_iterators.py\u001b[0m in \u001b[0;36mgeneric_iter_pages\u001b[1;34m(start_url, page_parser_cls, request_fn, **kwargs)\u001b[0m\n\u001b[0;32m     43\u001b[0m             \u001b[1;32mtry\u001b[0m\u001b[1;33m:\u001b[0m\u001b[1;33m\u001b[0m\u001b[1;33m\u001b[0m\u001b[0m\n\u001b[0;32m     44\u001b[0m                 \u001b[0mlogger\u001b[0m\u001b[1;33m.\u001b[0m\u001b[0mdebug\u001b[0m\u001b[1;33m(\u001b[0m\u001b[1;34m\"Requesting page from: %s\"\u001b[0m\u001b[1;33m,\u001b[0m \u001b[0mnext_url\u001b[0m\u001b[1;33m)\u001b[0m\u001b[1;33m\u001b[0m\u001b[1;33m\u001b[0m\u001b[0m\n\u001b[1;32m---> 45\u001b[1;33m                 \u001b[0mresponse\u001b[0m \u001b[1;33m=\u001b[0m \u001b[0mrequest_fn\u001b[0m\u001b[1;33m(\u001b[0m\u001b[0mnext_url\u001b[0m\u001b[1;33m)\u001b[0m\u001b[1;33m\u001b[0m\u001b[1;33m\u001b[0m\u001b[0m\n\u001b[0m\u001b[0;32m     46\u001b[0m                 \u001b[1;32mbreak\u001b[0m\u001b[1;33m\u001b[0m\u001b[1;33m\u001b[0m\u001b[0m\n\u001b[0;32m     47\u001b[0m             \u001b[1;32mexcept\u001b[0m \u001b[0mHTTPError\u001b[0m \u001b[1;32mas\u001b[0m \u001b[0me\u001b[0m\u001b[1;33m:\u001b[0m\u001b[1;33m\u001b[0m\u001b[1;33m\u001b[0m\u001b[0m\n",
      "\u001b[1;32m~\\anaconda3\\lib\\site-packages\\facebook_scraper\\facebook_scraper.py\u001b[0m in \u001b[0;36mget\u001b[1;34m(self, url, **kwargs)\u001b[0m\n\u001b[0;32m    240\u001b[0m             \u001b[1;32mif\u001b[0m \u001b[1;32mnot\u001b[0m \u001b[0murl\u001b[0m\u001b[1;33m.\u001b[0m\u001b[0mstartswith\u001b[0m\u001b[1;33m(\u001b[0m\u001b[1;34m\"http\"\u001b[0m\u001b[1;33m)\u001b[0m\u001b[1;33m:\u001b[0m\u001b[1;33m\u001b[0m\u001b[1;33m\u001b[0m\u001b[0m\n\u001b[0;32m    241\u001b[0m                 \u001b[0murl\u001b[0m \u001b[1;33m=\u001b[0m \u001b[0mutils\u001b[0m\u001b[1;33m.\u001b[0m\u001b[0murljoin\u001b[0m\u001b[1;33m(\u001b[0m\u001b[0mFB_MOBILE_BASE_URL\u001b[0m\u001b[1;33m,\u001b[0m \u001b[0murl\u001b[0m\u001b[1;33m)\u001b[0m\u001b[1;33m\u001b[0m\u001b[1;33m\u001b[0m\u001b[0m\n\u001b[1;32m--> 242\u001b[1;33m             \u001b[0mresponse\u001b[0m \u001b[1;33m=\u001b[0m \u001b[0mself\u001b[0m\u001b[1;33m.\u001b[0m\u001b[0msession\u001b[0m\u001b[1;33m.\u001b[0m\u001b[0mget\u001b[0m\u001b[1;33m(\u001b[0m\u001b[0murl\u001b[0m\u001b[1;33m=\u001b[0m\u001b[0murl\u001b[0m\u001b[1;33m,\u001b[0m \u001b[1;33m**\u001b[0m\u001b[0mself\u001b[0m\u001b[1;33m.\u001b[0m\u001b[0mrequests_kwargs\u001b[0m\u001b[1;33m,\u001b[0m \u001b[1;33m**\u001b[0m\u001b[0mkwargs\u001b[0m\u001b[1;33m)\u001b[0m\u001b[1;33m\u001b[0m\u001b[1;33m\u001b[0m\u001b[0m\n\u001b[0m\u001b[0;32m    243\u001b[0m             \u001b[0mresponse\u001b[0m\u001b[1;33m.\u001b[0m\u001b[0mhtml\u001b[0m\u001b[1;33m.\u001b[0m\u001b[0mhtml\u001b[0m \u001b[1;33m=\u001b[0m \u001b[0mresponse\u001b[0m\u001b[1;33m.\u001b[0m\u001b[0mhtml\u001b[0m\u001b[1;33m.\u001b[0m\u001b[0mhtml\u001b[0m\u001b[1;33m.\u001b[0m\u001b[0mreplace\u001b[0m\u001b[1;33m(\u001b[0m\u001b[1;34m'<!--'\u001b[0m\u001b[1;33m,\u001b[0m \u001b[1;34m''\u001b[0m\u001b[1;33m)\u001b[0m\u001b[1;33m.\u001b[0m\u001b[0mreplace\u001b[0m\u001b[1;33m(\u001b[0m\u001b[1;34m'-->'\u001b[0m\u001b[1;33m,\u001b[0m \u001b[1;34m''\u001b[0m\u001b[1;33m)\u001b[0m\u001b[1;33m\u001b[0m\u001b[1;33m\u001b[0m\u001b[0m\n\u001b[0;32m    244\u001b[0m             \u001b[0mresponse\u001b[0m\u001b[1;33m.\u001b[0m\u001b[0mraise_for_status\u001b[0m\u001b[1;33m(\u001b[0m\u001b[1;33m)\u001b[0m\u001b[1;33m\u001b[0m\u001b[1;33m\u001b[0m\u001b[0m\n",
      "\u001b[1;32m~\\anaconda3\\lib\\site-packages\\requests\\sessions.py\u001b[0m in \u001b[0;36mget\u001b[1;34m(self, url, **kwargs)\u001b[0m\n\u001b[0;32m    541\u001b[0m \u001b[1;33m\u001b[0m\u001b[0m\n\u001b[0;32m    542\u001b[0m         \u001b[0mkwargs\u001b[0m\u001b[1;33m.\u001b[0m\u001b[0msetdefault\u001b[0m\u001b[1;33m(\u001b[0m\u001b[1;34m'allow_redirects'\u001b[0m\u001b[1;33m,\u001b[0m \u001b[1;32mTrue\u001b[0m\u001b[1;33m)\u001b[0m\u001b[1;33m\u001b[0m\u001b[1;33m\u001b[0m\u001b[0m\n\u001b[1;32m--> 543\u001b[1;33m         \u001b[1;32mreturn\u001b[0m \u001b[0mself\u001b[0m\u001b[1;33m.\u001b[0m\u001b[0mrequest\u001b[0m\u001b[1;33m(\u001b[0m\u001b[1;34m'GET'\u001b[0m\u001b[1;33m,\u001b[0m \u001b[0murl\u001b[0m\u001b[1;33m,\u001b[0m \u001b[1;33m**\u001b[0m\u001b[0mkwargs\u001b[0m\u001b[1;33m)\u001b[0m\u001b[1;33m\u001b[0m\u001b[1;33m\u001b[0m\u001b[0m\n\u001b[0m\u001b[0;32m    544\u001b[0m \u001b[1;33m\u001b[0m\u001b[0m\n\u001b[0;32m    545\u001b[0m     \u001b[1;32mdef\u001b[0m \u001b[0moptions\u001b[0m\u001b[1;33m(\u001b[0m\u001b[0mself\u001b[0m\u001b[1;33m,\u001b[0m \u001b[0murl\u001b[0m\u001b[1;33m,\u001b[0m \u001b[1;33m**\u001b[0m\u001b[0mkwargs\u001b[0m\u001b[1;33m)\u001b[0m\u001b[1;33m:\u001b[0m\u001b[1;33m\u001b[0m\u001b[1;33m\u001b[0m\u001b[0m\n",
      "\u001b[1;32m~\\anaconda3\\lib\\site-packages\\requests\\sessions.py\u001b[0m in \u001b[0;36mrequest\u001b[1;34m(self, method, url, params, data, headers, cookies, files, auth, timeout, allow_redirects, proxies, hooks, stream, verify, cert, json)\u001b[0m\n\u001b[0;32m    528\u001b[0m         }\n\u001b[0;32m    529\u001b[0m         \u001b[0msend_kwargs\u001b[0m\u001b[1;33m.\u001b[0m\u001b[0mupdate\u001b[0m\u001b[1;33m(\u001b[0m\u001b[0msettings\u001b[0m\u001b[1;33m)\u001b[0m\u001b[1;33m\u001b[0m\u001b[1;33m\u001b[0m\u001b[0m\n\u001b[1;32m--> 530\u001b[1;33m         \u001b[0mresp\u001b[0m \u001b[1;33m=\u001b[0m \u001b[0mself\u001b[0m\u001b[1;33m.\u001b[0m\u001b[0msend\u001b[0m\u001b[1;33m(\u001b[0m\u001b[0mprep\u001b[0m\u001b[1;33m,\u001b[0m \u001b[1;33m**\u001b[0m\u001b[0msend_kwargs\u001b[0m\u001b[1;33m)\u001b[0m\u001b[1;33m\u001b[0m\u001b[1;33m\u001b[0m\u001b[0m\n\u001b[0m\u001b[0;32m    531\u001b[0m \u001b[1;33m\u001b[0m\u001b[0m\n\u001b[0;32m    532\u001b[0m         \u001b[1;32mreturn\u001b[0m \u001b[0mresp\u001b[0m\u001b[1;33m\u001b[0m\u001b[1;33m\u001b[0m\u001b[0m\n",
      "\u001b[1;32m~\\anaconda3\\lib\\site-packages\\requests\\sessions.py\u001b[0m in \u001b[0;36msend\u001b[1;34m(self, request, **kwargs)\u001b[0m\n\u001b[0;32m    641\u001b[0m \u001b[1;33m\u001b[0m\u001b[0m\n\u001b[0;32m    642\u001b[0m         \u001b[1;31m# Send the request\u001b[0m\u001b[1;33m\u001b[0m\u001b[1;33m\u001b[0m\u001b[1;33m\u001b[0m\u001b[0m\n\u001b[1;32m--> 643\u001b[1;33m         \u001b[0mr\u001b[0m \u001b[1;33m=\u001b[0m \u001b[0madapter\u001b[0m\u001b[1;33m.\u001b[0m\u001b[0msend\u001b[0m\u001b[1;33m(\u001b[0m\u001b[0mrequest\u001b[0m\u001b[1;33m,\u001b[0m \u001b[1;33m**\u001b[0m\u001b[0mkwargs\u001b[0m\u001b[1;33m)\u001b[0m\u001b[1;33m\u001b[0m\u001b[1;33m\u001b[0m\u001b[0m\n\u001b[0m\u001b[0;32m    644\u001b[0m \u001b[1;33m\u001b[0m\u001b[0m\n\u001b[0;32m    645\u001b[0m         \u001b[1;31m# Total elapsed time of the request (approximately)\u001b[0m\u001b[1;33m\u001b[0m\u001b[1;33m\u001b[0m\u001b[1;33m\u001b[0m\u001b[0m\n",
      "\u001b[1;32m~\\anaconda3\\lib\\site-packages\\requests\\adapters.py\u001b[0m in \u001b[0;36msend\u001b[1;34m(self, request, stream, timeout, verify, cert, proxies)\u001b[0m\n\u001b[0;32m    514\u001b[0m                 \u001b[1;32mraise\u001b[0m \u001b[0mSSLError\u001b[0m\u001b[1;33m(\u001b[0m\u001b[0me\u001b[0m\u001b[1;33m,\u001b[0m \u001b[0mrequest\u001b[0m\u001b[1;33m=\u001b[0m\u001b[0mrequest\u001b[0m\u001b[1;33m)\u001b[0m\u001b[1;33m\u001b[0m\u001b[1;33m\u001b[0m\u001b[0m\n\u001b[0;32m    515\u001b[0m \u001b[1;33m\u001b[0m\u001b[0m\n\u001b[1;32m--> 516\u001b[1;33m             \u001b[1;32mraise\u001b[0m \u001b[0mConnectionError\u001b[0m\u001b[1;33m(\u001b[0m\u001b[0me\u001b[0m\u001b[1;33m,\u001b[0m \u001b[0mrequest\u001b[0m\u001b[1;33m=\u001b[0m\u001b[0mrequest\u001b[0m\u001b[1;33m)\u001b[0m\u001b[1;33m\u001b[0m\u001b[1;33m\u001b[0m\u001b[0m\n\u001b[0m\u001b[0;32m    517\u001b[0m \u001b[1;33m\u001b[0m\u001b[0m\n\u001b[0;32m    518\u001b[0m         \u001b[1;32mexcept\u001b[0m \u001b[0mClosedPoolError\u001b[0m \u001b[1;32mas\u001b[0m \u001b[0me\u001b[0m\u001b[1;33m:\u001b[0m\u001b[1;33m\u001b[0m\u001b[1;33m\u001b[0m\u001b[0m\n",
      "\u001b[1;31mConnectionError\u001b[0m: HTTPSConnectionPool(host='m.facebook.com', port=443): Max retries exceeded with url: /page_content_list_view/more/?page_id=145977139454245&start_cursor=%7B%22timeline_cursor%22%3A%22AQHRPoH5xZ9FWg5kp0yTpCZjUepiScMHxGjsCHiGThf1-wXexCPURxdkL5dZCunlhX-BXxmUpn5ImgH7QrWO7yrIZEIiXgy63UEOLUNX3N1oCoBQGXh4L70ErTEOn0qy6qwt%22%2C%22timeline_section_cursor%22%3Anull%2C%22has_next_page%22%3Atrue%7D&num_to_fetch=4&surface_type=posts_tab (Caused by NewConnectionError('<urllib3.connection.HTTPSConnection object at 0x00000239F009A370>: Failed to establish a new connection: [Errno 11001] getaddrinfo failed'))"
     ]
    }
   ],
   "source": [
    "neo4j = Neo4jService('bolt://localhost:7687', 'neo4j', 'cuenca')\n",
    "with neo4j._driver.session() as session:\n",
    "    from facebook_scraper import get_posts\n",
    "    session.write_transaction(neo4j.crear_alcaldes , \"Pedro Palacios Ullauri\")\n",
    "for post in get_posts('PedroPalaciosU', pages=300):\n",
    "    #print(post)\n",
    "    #print(post[\"likes\"])  \n",
    "    #print(post['comments_full'])\n",
    "    #print(post['text'])\n",
    "    #print(post['images'])\n",
    "    session.write_transaction(neo4j.crear_noticia , post['post_text'])\n",
    "    session.write_transaction(neo4j.crear_links , post['user_url'])\n",
    "    session.write_transaction(neo4j.crear_contenido , post['text'])\n",
    "    session.write_transaction(neo4j.crear_likes , post['likes'])\n",
    "    session.write_transaction(neo4j.crear_titulo , post['images_description'])\n",
    "    session.write_transaction(neo4j.crear_fecha , post['time'])    \n",
    "    session.write_transaction(neo4j.crear_relacion_AN , \"Pedro Palacios Ullauri\",post['post_text'])\n",
    "    session.write_transaction(neo4j.crear_relacion_AL , \"Pedro Palacios Ullauri\",post['user_url'])\n",
    "    session.write_transaction(neo4j.crear_relacion_AT , \"Pedro Palacios Ullauri\",post['images_description'])\n",
    "    session.write_transaction(neo4j.crear_relacion_AF , \"Pedro Palacios Ullauri\",post['time'])\n",
    "    session.write_transaction(neo4j.crear_relacion_ALI , \"Pedro Palacios Ullauri\",post['likes'])"
   ]
  },
  {
   "cell_type": "code",
   "execution_count": null,
   "metadata": {},
   "outputs": [],
   "source": []
  }
 ],
 "metadata": {
  "kernelspec": {
   "display_name": "Python 3",
   "language": "python",
   "name": "python3"
  }
 },
 "nbformat": 4,
 "nbformat_minor": 4
}
