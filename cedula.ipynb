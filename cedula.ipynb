{
 "cells": [
  {
   "cell_type": "code",
   "execution_count": 1,
   "metadata": {},
   "outputs": [],
   "source": [
    "def verificar(nro):\n",
    "    l = len(nro)\n",
    "    if l == 10 or l == 13: # verificar la longitud correcta\n",
    "        cp = int(nro[0:2])\n",
    "        if cp >= 1 and cp <= 22: # verificar codigo de provincia\n",
    "            tercer_dig = int(nro[2])\n",
    "            if tercer_dig >= 0 and tercer_dig < 6 : # numeros enter 0 y 6\n",
    "                if l == 10:\n",
    "                    return __validar_ced_ruc(nro,0)                       \n",
    "                elif l == 13:\n",
    "                    return __validar_ced_ruc(nro,0) and nro[10:13] != '000' # se verifica q los ultimos numeros no sean 000\n",
    "            elif tercer_dig == 6:\n",
    "                return __validar_ced_ruc(nro,1) # sociedades publicas\n",
    "            elif tercer_dig == 9: # si es ruc\n",
    "                return __validar_ced_ruc(nro,2) # sociedades privadas\n",
    "            else:\n",
    "                raise Exception(u'Tercer digito invalido') \n",
    "        else:\n",
    "            raise Exception(u'Codigo de provincia incorrecto') \n",
    "    else:\n",
    "        raise Exception(u'Longitud incorrecta del numero ingresado')\n"
   ]
  },
  {
   "cell_type": "code",
   "execution_count": null,
   "metadata": {},
   "outputs": [],
   "source": []
  },
  {
   "cell_type": "code",
   "execution_count": null,
   "metadata": {},
   "outputs": [],
   "source": []
  }
 ],
 "metadata": {
  "kernelspec": {
   "display_name": "Python 3",
   "language": "python",
   "name": "python3"
  },
  "language_info": {
   "codemirror_mode": {
    "name": "ipython",
    "version": 3
   },
   "file_extension": ".py",
   "mimetype": "text/x-python",
   "name": "python",
   "nbconvert_exporter": "python",
   "pygments_lexer": "ipython3",
   "version": "3.8.5"
  }
 },
 "nbformat": 4,
 "nbformat_minor": 4
}
