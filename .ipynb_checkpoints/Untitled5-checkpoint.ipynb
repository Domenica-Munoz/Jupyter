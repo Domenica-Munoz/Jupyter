{
 "cells": [
  {
   "cell_type": "code",
   "execution_count": 1,
   "metadata": {},
   "outputs": [
    {
     "name": "stdout",
     "output_type": "stream",
     "text": [
      "Requirement already satisfied: facebook-scraper in c:\\users\\domenicamunoz\\anaconda3\\lib\\site-packages (0.2.38)\n",
      "Requirement already satisfied: requests-html<0.11.0,>=0.10.0 in c:\\users\\domenicamunoz\\anaconda3\\lib\\site-packages (from facebook-scraper) (0.10.0)\n",
      "Requirement already satisfied: dateparser<2.0.0,>=1.0.0 in c:\\users\\domenicamunoz\\anaconda3\\lib\\site-packages (from facebook-scraper) (1.0.0)\n",
      "Requirement already satisfied: demjson<3.0.0,>=2.2.4 in c:\\users\\domenicamunoz\\anaconda3\\lib\\site-packages (from facebook-scraper) (2.2.4)\n",
      "Requirement already satisfied: w3lib in c:\\users\\domenicamunoz\\anaconda3\\lib\\site-packages (from requests-html<0.11.0,>=0.10.0->facebook-scraper) (1.22.0)\n",
      "Requirement already satisfied: bs4 in c:\\users\\domenicamunoz\\anaconda3\\lib\\site-packages (from requests-html<0.11.0,>=0.10.0->facebook-scraper) (0.0.1)\n",
      "Requirement already satisfied: fake-useragent in c:\\users\\domenicamunoz\\anaconda3\\lib\\site-packages (from requests-html<0.11.0,>=0.10.0->facebook-scraper) (0.1.11)\n",
      "Requirement already satisfied: parse in c:\\users\\domenicamunoz\\anaconda3\\lib\\site-packages (from requests-html<0.11.0,>=0.10.0->facebook-scraper) (1.19.0)\n",
      "Requirement already satisfied: requests in c:\\users\\domenicamunoz\\anaconda3\\lib\\site-packages (from requests-html<0.11.0,>=0.10.0->facebook-scraper) (2.24.0)\n",
      "Requirement already satisfied: pyquery in c:\\users\\domenicamunoz\\anaconda3\\lib\\site-packages (from requests-html<0.11.0,>=0.10.0->facebook-scraper) (1.4.3)\n",
      "Requirement already satisfied: pyppeteer>=0.0.14 in c:\\users\\domenicamunoz\\anaconda3\\lib\\site-packages (from requests-html<0.11.0,>=0.10.0->facebook-scraper) (0.2.5)\n",
      "Requirement already satisfied: tzlocal in c:\\users\\domenicamunoz\\anaconda3\\lib\\site-packages (from dateparser<2.0.0,>=1.0.0->facebook-scraper) (2.1)\n",
      "Requirement already satisfied: python-dateutil in c:\\users\\domenicamunoz\\anaconda3\\lib\\site-packages (from dateparser<2.0.0,>=1.0.0->facebook-scraper) (2.8.1)\n",
      "Requirement already satisfied: regex!=2019.02.19 in c:\\users\\domenicamunoz\\anaconda3\\lib\\site-packages (from dateparser<2.0.0,>=1.0.0->facebook-scraper) (2020.10.15)\n",
      "Requirement already satisfied: pytz in c:\\users\\domenicamunoz\\anaconda3\\lib\\site-packages (from dateparser<2.0.0,>=1.0.0->facebook-scraper) (2020.1)\n",
      "Requirement already satisfied: six>=1.4.1 in c:\\users\\domenicamunoz\\anaconda3\\lib\\site-packages (from w3lib->requests-html<0.11.0,>=0.10.0->facebook-scraper) (1.15.0)\n",
      "Requirement already satisfied: beautifulsoup4 in c:\\users\\domenicamunoz\\anaconda3\\lib\\site-packages (from bs4->requests-html<0.11.0,>=0.10.0->facebook-scraper) (4.9.3)\n",
      "Requirement already satisfied: chardet<4,>=3.0.2 in c:\\users\\domenicamunoz\\anaconda3\\lib\\site-packages (from requests->requests-html<0.11.0,>=0.10.0->facebook-scraper) (3.0.4)\n",
      "Requirement already satisfied: idna<3,>=2.5 in c:\\users\\domenicamunoz\\anaconda3\\lib\\site-packages (from requests->requests-html<0.11.0,>=0.10.0->facebook-scraper) (2.10)\n",
      "Requirement already satisfied: certifi>=2017.4.17 in c:\\users\\domenicamunoz\\anaconda3\\lib\\site-packages (from requests->requests-html<0.11.0,>=0.10.0->facebook-scraper) (2020.6.20)\n",
      "Requirement already satisfied: urllib3!=1.25.0,!=1.25.1,<1.26,>=1.21.1 in c:\\users\\domenicamunoz\\anaconda3\\lib\\site-packages (from requests->requests-html<0.11.0,>=0.10.0->facebook-scraper) (1.25.11)\n",
      "Requirement already satisfied: cssselect>0.7.9 in c:\\users\\domenicamunoz\\anaconda3\\lib\\site-packages (from pyquery->requests-html<0.11.0,>=0.10.0->facebook-scraper) (1.1.0)\n",
      "Requirement already satisfied: lxml>=2.1 in c:\\users\\domenicamunoz\\anaconda3\\lib\\site-packages (from pyquery->requests-html<0.11.0,>=0.10.0->facebook-scraper) (4.6.1)\n",
      "Requirement already satisfied: appdirs<2.0.0,>=1.4.3 in c:\\users\\domenicamunoz\\anaconda3\\lib\\site-packages (from pyppeteer>=0.0.14->requests-html<0.11.0,>=0.10.0->facebook-scraper) (1.4.4)\n",
      "Requirement already satisfied: pyee<9.0.0,>=8.1.0 in c:\\users\\domenicamunoz\\anaconda3\\lib\\site-packages (from pyppeteer>=0.0.14->requests-html<0.11.0,>=0.10.0->facebook-scraper) (8.1.0)\n",
      "Requirement already satisfied: tqdm<5.0.0,>=4.42.1 in c:\\users\\domenicamunoz\\anaconda3\\lib\\site-packages (from pyppeteer>=0.0.14->requests-html<0.11.0,>=0.10.0->facebook-scraper) (4.50.2)\n",
      "Requirement already satisfied: websockets<9.0,>=8.1 in c:\\users\\domenicamunoz\\anaconda3\\lib\\site-packages (from pyppeteer>=0.0.14->requests-html<0.11.0,>=0.10.0->facebook-scraper) (8.1)\n",
      "Requirement already satisfied: soupsieve>1.2; python_version >= \"3.0\" in c:\\users\\domenicamunoz\\anaconda3\\lib\\site-packages (from beautifulsoup4->bs4->requests-html<0.11.0,>=0.10.0->facebook-scraper) (2.0.1)\n",
      "Note: you may need to restart the kernel to use updated packages.\n"
     ]
    }
   ],
   "source": [
    "pip install facebook-scraper\n"
   ]
  },
  {
   "cell_type": "markdown",
   "metadata": {},
   "source": [
    "from facebook_scraper import get_posts\n",
    "for post in get_posts('alcaldiadepaute', pages=1):\n",
    "    print(post)\n",
    "    #print(post[\"likes\"])  \n",
    "    #print(post['comments_full'])\n",
    "    observation = env.reset()\n",
    "for t in range(1000):\n",
    "        post.render()\n",
    "        action = post.action_space.sample()\n",
    "           observation, reward, done, info = post.step(action)\n",
    "     \n",
    "print(reward,done)\n",
    "post.close()"
   ]
  },
  {
   "cell_type": "code",
   "execution_count": 2,
   "metadata": {},
   "outputs": [
    {
     "name": "stdout",
     "output_type": "stream",
     "text": [
      "1\n"
     ]
    }
   ],
   "source": [
    "from facebook_scraper import get_posts\n",
    "for post in get_posts('alcaldiadepaute', pages=1):\n",
    "    print(post)\n",
    "    #print(post[\"likes\"])  \n",
    "    #print(post['comments_full'])\n",
    "    observation = post.reset()\n",
    "for t in range(1000):\n",
    "        post.render()\n",
    "        action = post.action_space.sample()\n",
    "           observation, reward, done, info = post.step(action)\n",
    "     \n",
    "print(reward,done)\n",
    "post.close()"
   ]
  },
  {
   "cell_type": "code",
   "execution_count": 1,
   "metadata": {},
   "outputs": [
    {
     "name": "stdout",
     "output_type": "stream",
     "text": [
      "Requirement already satisfied: neo4j in c:\\users\\domenicamunoz\\anaconda3\\lib\\site-packages (4.3.0)\n",
      "Requirement already satisfied: pytz in c:\\users\\domenicamunoz\\anaconda3\\lib\\site-packages (from neo4j) (2020.1)\n",
      "Note: you may need to restart the kernel to use updated packages.\n"
     ]
    }
   ],
   "source": [
    "pip install neo4j"
   ]
  },
  {
   "cell_type": "code",
   "execution_count": 3,
   "metadata": {},
   "outputs": [],
   "source": [
    "from neo4j import GraphDatabase \n",
    "class Neo4jService(object):\n",
    "\n",
    "    def __init__ (self, uri, user, password):\n",
    "        self._driver = GraphDatabase.driver(uri, auth=(user, password))\n",
    "\n",
    "    def close(self):\n",
    "        self._driver.close()\n",
    "    def crear_relacion_TitFech(self, tx, nombre_titulo,nombre_fecha):\n",
    "        tx.run(\"MATCH (a:Alcalde {nombre: $nombre_titulo}) \"\n",
    "               \"MATCH (b:Fuente {nombre: $nombre_fecha}) \"\n",
    "               \"MERGE (a)-[:Titulo_Fecha]->(b)\",\n",
    "               nombre_titulo=nombre_titulo, nombre_fecha=nombre_fecha)\n",
    "    def crear_Alcaldes(self, tx, nombre):\n",
    "        tx.run(\"CREATE (:Alcaldes {nombre: $nombre})\", nombre=nombre)\n",
    "    def crear_relacion_Facebook_Alcalde(self, tx, nombre_alcalde,nombre_fecha):\n",
    "        tx.run(\"MATCH (a:alcalde{nombre: $nombre_alcalde}) \"\n",
    "               \"MATCH (b:Fecha {nombre: $nombre_fecha}) \"\n",
    "               \"MERGE (a)-[:Descripcion_Fecha]->(b)\",\n",
    "               nombre_alcalde=nombre_alcalde, nombre_fecha=nombre_fecha)\n",
    "    def crear_facebook(self, tx, fecha):\n",
    "        tx.run(\"CREATE (:fecha {fecha: $fecha})\", fecha=fecha)\n",
    "    def crear_Descripcion(self, tx, descripcion):\n",
    "        tx.run(\"CREATE (:descripcion {nombre: $nombre})\", nombre=nombre):\n",
    "    def crear_relacion_Facebook_Descripcion(self, tx, nombre_descripcion,nombre_fecha):\n",
    "        tx.run(\"MATCH (a:alcalde{nombre: $nombre_descripcion}) \"\n",
    "               \"MATCH (b:Fecha {nombre: $nombre_fecha}) \"\n",
    "               \"MERGE (a)-[:Descripcion_Fecha]->(b)\",\n",
    "               nombre_descripcion=nombre_descripcion, nombre_fecha=nombre_fecha)"
   ]
  },
  {
   "cell_type": "code",
   "execution_count": 4,
   "metadata": {},
   "outputs": [],
   "source": [
    "neo4j = Neo4jService('bolt://localhost:7687', 'neo4j', 'cuenca')\n",
    "with neo4j._driver.session() as session:\n",
    "    \n",
    "    session.write_transaction(neo4j.crear_Alcaldes , \"Alcaldes\")\n",
    "    session.write_transaction(neo4j.crear_facebook , \"facebook\")\n",
    "    session.write_transaction(neo4j.crear_relacion_Facebook_Alcalde , \"Alcaldes\",\"facebook\")\n",
    "    session.write_transaction(neo4j.crear_descripcion , \"Descripcion\")\n",
    "    session.write_transaction(neo4j.crear_relacion_Facebook_Descripcion , \"Descripcion\",\"facebook\")"
   ]
  },
  {
   "cell_type": "code",
   "execution_count": null,
   "metadata": {},
   "outputs": [],
   "source": []
  },
  {
   "cell_type": "code",
   "execution_count": null,
   "metadata": {},
   "outputs": [],
   "source": []
  }
 ],
 "metadata": {
  "kernelspec": {
   "display_name": "Python 3",
   "language": "python",
   "name": "python3"
  },
  "language_info": {
   "codemirror_mode": {
    "name": "ipython",
    "version": 3
   },
   "file_extension": ".py",
   "mimetype": "text/x-python",
   "name": "python",
   "nbconvert_exporter": "python",
   "pygments_lexer": "ipython3",
   "version": "3.8.5"
  }
 },
 "nbformat": 4,
 "nbformat_minor": 4
}
